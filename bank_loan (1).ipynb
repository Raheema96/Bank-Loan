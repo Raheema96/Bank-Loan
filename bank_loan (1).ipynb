{
  "nbformat": 4,
  "nbformat_minor": 0,
  "metadata": {
    "colab": {
      "provenance": []
    },
    "kernelspec": {
      "name": "python3",
      "display_name": "Python 3"
    },
    "language_info": {
      "name": "python"
    }
  },
  "cells": [
    {
      "cell_type": "markdown",
      "source": [
        "#Problem Statement\n",
        "A bank is trying to get more people to apply for personal loans. Using the dataset provided by them, which is based of the previous year when they were offering loans packages, they want me to check which of their current  and future customers would be interested in acquiring a personal loan and how to make this option attractive and available to them.\n",
        "\n",
        "More people applying for personal loans will aenable them to generate more revenue in the form of interest and loan fees. They'll also be able to attract new customers and strengthen relationship with exisitng customers and increase their loyalty.\n",
        "\n",
        "The data provided by them contains information about the previous customers who have applied for personal loans based on the previous campaign they ran versus those who didn't apply. I'll use this information to find a link and create a pipeline to determine the type of customers they should promote thier services to them and how to make taking the loan attractive to them.\n",
        "\n",
        "The source for the dataset is linked below:\n",
        "https://www.kaggle.com/datasets/krantiswalke/bank-personal-loan-modelling"
      ],
      "metadata": {
        "id": "YGkBFDtSAH6g"
      }
    },
    {
      "cell_type": "markdown",
      "source": [
        "#Data Pre-processing\n",
        "\n",
        "After importing the necessary libraries, I upload thecsv file using\n",
        ".read_csv. I check for null values and got their sum. There were no null values. And I used .shape to check how many rows and columns which is 5000 rows and 14 columns."
      ],
      "metadata": {
        "id": "z-d6-gghBgLx"
      }
    },
    {
      "cell_type": "code",
      "source": [
        "#importing libraries\n",
        "import pandas as pd\n",
        "import matplotlib.pyplot as plt\n",
        "import seaborn as sns"
      ],
      "metadata": {
        "id": "tbHNHlEztjj6"
      },
      "execution_count": null,
      "outputs": []
    },
    {
      "cell_type": "code",
      "execution_count": null,
      "metadata": {
        "colab": {
          "base_uri": "https://localhost:8080/",
          "height": 243
        },
        "id": "yQg3kvzqsFEv",
        "outputId": "5acd6987-3ace-46b7-9a8c-3cabaadb7275"
      },
      "outputs": [
        {
          "output_type": "execute_result",
          "data": {
            "text/plain": [
              "   ID  Age  Experience  Income  ZIP Code  Family  CCAvg  Education  Mortgage  \\\n",
              "0   1   25           1      49     91107       4    1.6          1         0   \n",
              "1   2   45          19      34     90089       3    1.5          1         0   \n",
              "2   3   39          15      11     94720       1    1.0          1         0   \n",
              "3   4   35           9     100     94112       1    2.7          2         0   \n",
              "4   5   35           8      45     91330       4    1.0          2         0   \n",
              "\n",
              "   Personal Loan  Securities Account  CD Account  Online  CreditCard  \n",
              "0              0                   1           0       0           0  \n",
              "1              0                   1           0       0           0  \n",
              "2              0                   0           0       0           0  \n",
              "3              0                   0           0       0           0  \n",
              "4              0                   0           0       0           1  "
            ],
            "text/html": [
              "\n",
              "  <div id=\"df-b1cf8124-6b2b-4b76-b75c-bf4e18d3845f\" class=\"colab-df-container\">\n",
              "    <div>\n",
              "<style scoped>\n",
              "    .dataframe tbody tr th:only-of-type {\n",
              "        vertical-align: middle;\n",
              "    }\n",
              "\n",
              "    .dataframe tbody tr th {\n",
              "        vertical-align: top;\n",
              "    }\n",
              "\n",
              "    .dataframe thead th {\n",
              "        text-align: right;\n",
              "    }\n",
              "</style>\n",
              "<table border=\"1\" class=\"dataframe\">\n",
              "  <thead>\n",
              "    <tr style=\"text-align: right;\">\n",
              "      <th></th>\n",
              "      <th>ID</th>\n",
              "      <th>Age</th>\n",
              "      <th>Experience</th>\n",
              "      <th>Income</th>\n",
              "      <th>ZIP Code</th>\n",
              "      <th>Family</th>\n",
              "      <th>CCAvg</th>\n",
              "      <th>Education</th>\n",
              "      <th>Mortgage</th>\n",
              "      <th>Personal Loan</th>\n",
              "      <th>Securities Account</th>\n",
              "      <th>CD Account</th>\n",
              "      <th>Online</th>\n",
              "      <th>CreditCard</th>\n",
              "    </tr>\n",
              "  </thead>\n",
              "  <tbody>\n",
              "    <tr>\n",
              "      <th>0</th>\n",
              "      <td>1</td>\n",
              "      <td>25</td>\n",
              "      <td>1</td>\n",
              "      <td>49</td>\n",
              "      <td>91107</td>\n",
              "      <td>4</td>\n",
              "      <td>1.6</td>\n",
              "      <td>1</td>\n",
              "      <td>0</td>\n",
              "      <td>0</td>\n",
              "      <td>1</td>\n",
              "      <td>0</td>\n",
              "      <td>0</td>\n",
              "      <td>0</td>\n",
              "    </tr>\n",
              "    <tr>\n",
              "      <th>1</th>\n",
              "      <td>2</td>\n",
              "      <td>45</td>\n",
              "      <td>19</td>\n",
              "      <td>34</td>\n",
              "      <td>90089</td>\n",
              "      <td>3</td>\n",
              "      <td>1.5</td>\n",
              "      <td>1</td>\n",
              "      <td>0</td>\n",
              "      <td>0</td>\n",
              "      <td>1</td>\n",
              "      <td>0</td>\n",
              "      <td>0</td>\n",
              "      <td>0</td>\n",
              "    </tr>\n",
              "    <tr>\n",
              "      <th>2</th>\n",
              "      <td>3</td>\n",
              "      <td>39</td>\n",
              "      <td>15</td>\n",
              "      <td>11</td>\n",
              "      <td>94720</td>\n",
              "      <td>1</td>\n",
              "      <td>1.0</td>\n",
              "      <td>1</td>\n",
              "      <td>0</td>\n",
              "      <td>0</td>\n",
              "      <td>0</td>\n",
              "      <td>0</td>\n",
              "      <td>0</td>\n",
              "      <td>0</td>\n",
              "    </tr>\n",
              "    <tr>\n",
              "      <th>3</th>\n",
              "      <td>4</td>\n",
              "      <td>35</td>\n",
              "      <td>9</td>\n",
              "      <td>100</td>\n",
              "      <td>94112</td>\n",
              "      <td>1</td>\n",
              "      <td>2.7</td>\n",
              "      <td>2</td>\n",
              "      <td>0</td>\n",
              "      <td>0</td>\n",
              "      <td>0</td>\n",
              "      <td>0</td>\n",
              "      <td>0</td>\n",
              "      <td>0</td>\n",
              "    </tr>\n",
              "    <tr>\n",
              "      <th>4</th>\n",
              "      <td>5</td>\n",
              "      <td>35</td>\n",
              "      <td>8</td>\n",
              "      <td>45</td>\n",
              "      <td>91330</td>\n",
              "      <td>4</td>\n",
              "      <td>1.0</td>\n",
              "      <td>2</td>\n",
              "      <td>0</td>\n",
              "      <td>0</td>\n",
              "      <td>0</td>\n",
              "      <td>0</td>\n",
              "      <td>0</td>\n",
              "      <td>1</td>\n",
              "    </tr>\n",
              "  </tbody>\n",
              "</table>\n",
              "</div>\n",
              "    <div class=\"colab-df-buttons\">\n",
              "\n",
              "  <div class=\"colab-df-container\">\n",
              "    <button class=\"colab-df-convert\" onclick=\"convertToInteractive('df-b1cf8124-6b2b-4b76-b75c-bf4e18d3845f')\"\n",
              "            title=\"Convert this dataframe to an interactive table.\"\n",
              "            style=\"display:none;\">\n",
              "\n",
              "  <svg xmlns=\"http://www.w3.org/2000/svg\" height=\"24px\" viewBox=\"0 -960 960 960\">\n",
              "    <path d=\"M120-120v-720h720v720H120Zm60-500h600v-160H180v160Zm220 220h160v-160H400v160Zm0 220h160v-160H400v160ZM180-400h160v-160H180v160Zm440 0h160v-160H620v160ZM180-180h160v-160H180v160Zm440 0h160v-160H620v160Z\"/>\n",
              "  </svg>\n",
              "    </button>\n",
              "\n",
              "  <style>\n",
              "    .colab-df-container {\n",
              "      display:flex;\n",
              "      gap: 12px;\n",
              "    }\n",
              "\n",
              "    .colab-df-convert {\n",
              "      background-color: #E8F0FE;\n",
              "      border: none;\n",
              "      border-radius: 50%;\n",
              "      cursor: pointer;\n",
              "      display: none;\n",
              "      fill: #1967D2;\n",
              "      height: 32px;\n",
              "      padding: 0 0 0 0;\n",
              "      width: 32px;\n",
              "    }\n",
              "\n",
              "    .colab-df-convert:hover {\n",
              "      background-color: #E2EBFA;\n",
              "      box-shadow: 0px 1px 2px rgba(60, 64, 67, 0.3), 0px 1px 3px 1px rgba(60, 64, 67, 0.15);\n",
              "      fill: #174EA6;\n",
              "    }\n",
              "\n",
              "    .colab-df-buttons div {\n",
              "      margin-bottom: 4px;\n",
              "    }\n",
              "\n",
              "    [theme=dark] .colab-df-convert {\n",
              "      background-color: #3B4455;\n",
              "      fill: #D2E3FC;\n",
              "    }\n",
              "\n",
              "    [theme=dark] .colab-df-convert:hover {\n",
              "      background-color: #434B5C;\n",
              "      box-shadow: 0px 1px 3px 1px rgba(0, 0, 0, 0.15);\n",
              "      filter: drop-shadow(0px 1px 2px rgba(0, 0, 0, 0.3));\n",
              "      fill: #FFFFFF;\n",
              "    }\n",
              "  </style>\n",
              "\n",
              "    <script>\n",
              "      const buttonEl =\n",
              "        document.querySelector('#df-b1cf8124-6b2b-4b76-b75c-bf4e18d3845f button.colab-df-convert');\n",
              "      buttonEl.style.display =\n",
              "        google.colab.kernel.accessAllowed ? 'block' : 'none';\n",
              "\n",
              "      async function convertToInteractive(key) {\n",
              "        const element = document.querySelector('#df-b1cf8124-6b2b-4b76-b75c-bf4e18d3845f');\n",
              "        const dataTable =\n",
              "          await google.colab.kernel.invokeFunction('convertToInteractive',\n",
              "                                                    [key], {});\n",
              "        if (!dataTable) return;\n",
              "\n",
              "        const docLinkHtml = 'Like what you see? Visit the ' +\n",
              "          '<a target=\"_blank\" href=https://colab.research.google.com/notebooks/data_table.ipynb>data table notebook</a>'\n",
              "          + ' to learn more about interactive tables.';\n",
              "        element.innerHTML = '';\n",
              "        dataTable['output_type'] = 'display_data';\n",
              "        await google.colab.output.renderOutput(dataTable, element);\n",
              "        const docLink = document.createElement('div');\n",
              "        docLink.innerHTML = docLinkHtml;\n",
              "        element.appendChild(docLink);\n",
              "      }\n",
              "    </script>\n",
              "  </div>\n",
              "\n",
              "\n",
              "<div id=\"df-d125c301-861b-4f25-b1fa-1e84ff9c1797\">\n",
              "  <button class=\"colab-df-quickchart\" onclick=\"quickchart('df-d125c301-861b-4f25-b1fa-1e84ff9c1797')\"\n",
              "            title=\"Suggest charts\"\n",
              "            style=\"display:none;\">\n",
              "\n",
              "<svg xmlns=\"http://www.w3.org/2000/svg\" height=\"24px\"viewBox=\"0 0 24 24\"\n",
              "     width=\"24px\">\n",
              "    <g>\n",
              "        <path d=\"M19 3H5c-1.1 0-2 .9-2 2v14c0 1.1.9 2 2 2h14c1.1 0 2-.9 2-2V5c0-1.1-.9-2-2-2zM9 17H7v-7h2v7zm4 0h-2V7h2v10zm4 0h-2v-4h2v4z\"/>\n",
              "    </g>\n",
              "</svg>\n",
              "  </button>\n",
              "\n",
              "<style>\n",
              "  .colab-df-quickchart {\n",
              "      --bg-color: #E8F0FE;\n",
              "      --fill-color: #1967D2;\n",
              "      --hover-bg-color: #E2EBFA;\n",
              "      --hover-fill-color: #174EA6;\n",
              "      --disabled-fill-color: #AAA;\n",
              "      --disabled-bg-color: #DDD;\n",
              "  }\n",
              "\n",
              "  [theme=dark] .colab-df-quickchart {\n",
              "      --bg-color: #3B4455;\n",
              "      --fill-color: #D2E3FC;\n",
              "      --hover-bg-color: #434B5C;\n",
              "      --hover-fill-color: #FFFFFF;\n",
              "      --disabled-bg-color: #3B4455;\n",
              "      --disabled-fill-color: #666;\n",
              "  }\n",
              "\n",
              "  .colab-df-quickchart {\n",
              "    background-color: var(--bg-color);\n",
              "    border: none;\n",
              "    border-radius: 50%;\n",
              "    cursor: pointer;\n",
              "    display: none;\n",
              "    fill: var(--fill-color);\n",
              "    height: 32px;\n",
              "    padding: 0;\n",
              "    width: 32px;\n",
              "  }\n",
              "\n",
              "  .colab-df-quickchart:hover {\n",
              "    background-color: var(--hover-bg-color);\n",
              "    box-shadow: 0 1px 2px rgba(60, 64, 67, 0.3), 0 1px 3px 1px rgba(60, 64, 67, 0.15);\n",
              "    fill: var(--button-hover-fill-color);\n",
              "  }\n",
              "\n",
              "  .colab-df-quickchart-complete:disabled,\n",
              "  .colab-df-quickchart-complete:disabled:hover {\n",
              "    background-color: var(--disabled-bg-color);\n",
              "    fill: var(--disabled-fill-color);\n",
              "    box-shadow: none;\n",
              "  }\n",
              "\n",
              "  .colab-df-spinner {\n",
              "    border: 2px solid var(--fill-color);\n",
              "    border-color: transparent;\n",
              "    border-bottom-color: var(--fill-color);\n",
              "    animation:\n",
              "      spin 1s steps(1) infinite;\n",
              "  }\n",
              "\n",
              "  @keyframes spin {\n",
              "    0% {\n",
              "      border-color: transparent;\n",
              "      border-bottom-color: var(--fill-color);\n",
              "      border-left-color: var(--fill-color);\n",
              "    }\n",
              "    20% {\n",
              "      border-color: transparent;\n",
              "      border-left-color: var(--fill-color);\n",
              "      border-top-color: var(--fill-color);\n",
              "    }\n",
              "    30% {\n",
              "      border-color: transparent;\n",
              "      border-left-color: var(--fill-color);\n",
              "      border-top-color: var(--fill-color);\n",
              "      border-right-color: var(--fill-color);\n",
              "    }\n",
              "    40% {\n",
              "      border-color: transparent;\n",
              "      border-right-color: var(--fill-color);\n",
              "      border-top-color: var(--fill-color);\n",
              "    }\n",
              "    60% {\n",
              "      border-color: transparent;\n",
              "      border-right-color: var(--fill-color);\n",
              "    }\n",
              "    80% {\n",
              "      border-color: transparent;\n",
              "      border-right-color: var(--fill-color);\n",
              "      border-bottom-color: var(--fill-color);\n",
              "    }\n",
              "    90% {\n",
              "      border-color: transparent;\n",
              "      border-bottom-color: var(--fill-color);\n",
              "    }\n",
              "  }\n",
              "</style>\n",
              "\n",
              "  <script>\n",
              "    async function quickchart(key) {\n",
              "      const quickchartButtonEl =\n",
              "        document.querySelector('#' + key + ' button');\n",
              "      quickchartButtonEl.disabled = true;  // To prevent multiple clicks.\n",
              "      quickchartButtonEl.classList.add('colab-df-spinner');\n",
              "      try {\n",
              "        const charts = await google.colab.kernel.invokeFunction(\n",
              "            'suggestCharts', [key], {});\n",
              "      } catch (error) {\n",
              "        console.error('Error during call to suggestCharts:', error);\n",
              "      }\n",
              "      quickchartButtonEl.classList.remove('colab-df-spinner');\n",
              "      quickchartButtonEl.classList.add('colab-df-quickchart-complete');\n",
              "    }\n",
              "    (() => {\n",
              "      let quickchartButtonEl =\n",
              "        document.querySelector('#df-d125c301-861b-4f25-b1fa-1e84ff9c1797 button');\n",
              "      quickchartButtonEl.style.display =\n",
              "        google.colab.kernel.accessAllowed ? 'block' : 'none';\n",
              "    })();\n",
              "  </script>\n",
              "</div>\n",
              "    </div>\n",
              "  </div>\n"
            ],
            "application/vnd.google.colaboratory.intrinsic+json": {
              "type": "dataframe",
              "variable_name": "df",
              "summary": "{\n  \"name\": \"df\",\n  \"rows\": 5000,\n  \"fields\": [\n    {\n      \"column\": \"ID\",\n      \"properties\": {\n        \"dtype\": \"number\",\n        \"std\": 1443,\n        \"min\": 1,\n        \"max\": 5000,\n        \"num_unique_values\": 5000,\n        \"samples\": [\n          1502,\n          2587,\n          2654\n        ],\n        \"semantic_type\": \"\",\n        \"description\": \"\"\n      }\n    },\n    {\n      \"column\": \"Age\",\n      \"properties\": {\n        \"dtype\": \"number\",\n        \"std\": 11,\n        \"min\": 23,\n        \"max\": 67,\n        \"num_unique_values\": 45,\n        \"samples\": [\n          24,\n          31,\n          51\n        ],\n        \"semantic_type\": \"\",\n        \"description\": \"\"\n      }\n    },\n    {\n      \"column\": \"Experience\",\n      \"properties\": {\n        \"dtype\": \"number\",\n        \"std\": 11,\n        \"min\": -3,\n        \"max\": 43,\n        \"num_unique_values\": 47,\n        \"samples\": [\n          12,\n          38,\n          7\n        ],\n        \"semantic_type\": \"\",\n        \"description\": \"\"\n      }\n    },\n    {\n      \"column\": \"Income\",\n      \"properties\": {\n        \"dtype\": \"number\",\n        \"std\": 46,\n        \"min\": 8,\n        \"max\": 224,\n        \"num_unique_values\": 162,\n        \"samples\": [\n          151,\n          75,\n          182\n        ],\n        \"semantic_type\": \"\",\n        \"description\": \"\"\n      }\n    },\n    {\n      \"column\": \"ZIP Code\",\n      \"properties\": {\n        \"dtype\": \"number\",\n        \"std\": 2121,\n        \"min\": 9307,\n        \"max\": 96651,\n        \"num_unique_values\": 467,\n        \"samples\": [\n          91335,\n          95134,\n          92672\n        ],\n        \"semantic_type\": \"\",\n        \"description\": \"\"\n      }\n    },\n    {\n      \"column\": \"Family\",\n      \"properties\": {\n        \"dtype\": \"number\",\n        \"std\": 1,\n        \"min\": 1,\n        \"max\": 4,\n        \"num_unique_values\": 4,\n        \"samples\": [\n          3,\n          2,\n          4\n        ],\n        \"semantic_type\": \"\",\n        \"description\": \"\"\n      }\n    },\n    {\n      \"column\": \"CCAvg\",\n      \"properties\": {\n        \"dtype\": \"number\",\n        \"std\": 1.7476589800467675,\n        \"min\": 0.0,\n        \"max\": 10.0,\n        \"num_unique_values\": 108,\n        \"samples\": [\n          3.4,\n          3.8,\n          0.4\n        ],\n        \"semantic_type\": \"\",\n        \"description\": \"\"\n      }\n    },\n    {\n      \"column\": \"Education\",\n      \"properties\": {\n        \"dtype\": \"number\",\n        \"std\": 0,\n        \"min\": 1,\n        \"max\": 3,\n        \"num_unique_values\": 3,\n        \"samples\": [\n          1,\n          2,\n          3\n        ],\n        \"semantic_type\": \"\",\n        \"description\": \"\"\n      }\n    },\n    {\n      \"column\": \"Mortgage\",\n      \"properties\": {\n        \"dtype\": \"number\",\n        \"std\": 101,\n        \"min\": 0,\n        \"max\": 635,\n        \"num_unique_values\": 347,\n        \"samples\": [\n          330,\n          314,\n          258\n        ],\n        \"semantic_type\": \"\",\n        \"description\": \"\"\n      }\n    },\n    {\n      \"column\": \"Personal Loan\",\n      \"properties\": {\n        \"dtype\": \"number\",\n        \"std\": 0,\n        \"min\": 0,\n        \"max\": 1,\n        \"num_unique_values\": 2,\n        \"samples\": [\n          1,\n          0\n        ],\n        \"semantic_type\": \"\",\n        \"description\": \"\"\n      }\n    },\n    {\n      \"column\": \"Securities Account\",\n      \"properties\": {\n        \"dtype\": \"number\",\n        \"std\": 0,\n        \"min\": 0,\n        \"max\": 1,\n        \"num_unique_values\": 2,\n        \"samples\": [\n          0,\n          1\n        ],\n        \"semantic_type\": \"\",\n        \"description\": \"\"\n      }\n    },\n    {\n      \"column\": \"CD Account\",\n      \"properties\": {\n        \"dtype\": \"number\",\n        \"std\": 0,\n        \"min\": 0,\n        \"max\": 1,\n        \"num_unique_values\": 2,\n        \"samples\": [\n          1,\n          0\n        ],\n        \"semantic_type\": \"\",\n        \"description\": \"\"\n      }\n    },\n    {\n      \"column\": \"Online\",\n      \"properties\": {\n        \"dtype\": \"number\",\n        \"std\": 0,\n        \"min\": 0,\n        \"max\": 1,\n        \"num_unique_values\": 2,\n        \"samples\": [\n          1,\n          0\n        ],\n        \"semantic_type\": \"\",\n        \"description\": \"\"\n      }\n    },\n    {\n      \"column\": \"CreditCard\",\n      \"properties\": {\n        \"dtype\": \"number\",\n        \"std\": 0,\n        \"min\": 0,\n        \"max\": 1,\n        \"num_unique_values\": 2,\n        \"samples\": [\n          1,\n          0\n        ],\n        \"semantic_type\": \"\",\n        \"description\": \"\"\n      }\n    }\n  ]\n}"
            }
          },
          "metadata": {},
          "execution_count": 109
        }
      ],
      "source": [
        "df = pd.read_csv('Bank_Personal_Loan_Modelling.csv')\n",
        "df.head()"
      ]
    },
    {
      "cell_type": "code",
      "source": [
        "df.shape"
      ],
      "metadata": {
        "colab": {
          "base_uri": "https://localhost:8080/"
        },
        "id": "ZuD5pzdwtMGg",
        "outputId": "4073b0f8-b65f-46a9-9e43-3bad04ac5e92"
      },
      "execution_count": null,
      "outputs": [
        {
          "output_type": "execute_result",
          "data": {
            "text/plain": [
              "(5000, 14)"
            ]
          },
          "metadata": {},
          "execution_count": 110
        }
      ]
    },
    {
      "cell_type": "code",
      "source": [
        "df.isnull().sum()"
      ],
      "metadata": {
        "colab": {
          "base_uri": "https://localhost:8080/"
        },
        "id": "oJa8ENjMtRm3",
        "outputId": "011b72fa-20d6-4af9-fd67-6de8341b32ef"
      },
      "execution_count": null,
      "outputs": [
        {
          "output_type": "execute_result",
          "data": {
            "text/plain": [
              "ID                    0\n",
              "Age                   0\n",
              "Experience            0\n",
              "Income                0\n",
              "ZIP Code              0\n",
              "Family                0\n",
              "CCAvg                 0\n",
              "Education             0\n",
              "Mortgage              0\n",
              "Personal Loan         0\n",
              "Securities Account    0\n",
              "CD Account            0\n",
              "Online                0\n",
              "CreditCard            0\n",
              "dtype: int64"
            ]
          },
          "metadata": {},
          "execution_count": 111
        }
      ]
    },
    {
      "cell_type": "markdown",
      "source": [
        "#Data Visualisation\n",
        "\n",
        "Using the matplotlib and seaborn libraries, I visualised the data by comparing them to the personal loan to see their relationships and get insights into the data.\n",
        "\n",
        "The first graph shows that less people applied for the loan vs those who didn't. This is very imbalanced.\n",
        "\n",
        "Using Personal Loan as the Identifyer, I compared the following columns Family, Age, Experience and Zip code to it.\n",
        "\n",
        "0 = didnt apply for loan(blue)\n",
        "1 = applied for loan(orange)"
      ],
      "metadata": {
        "id": "oaZMtdZ9uGRu"
      }
    },
    {
      "cell_type": "code",
      "source": [
        "#checking the rate of those for applied for loans vs those who didnt\n",
        "sns.countplot(x  = df['Personal Loan'])\n",
        "plt.show()\n",
        "#note: imbalanced"
      ],
      "metadata": {
        "colab": {
          "base_uri": "https://localhost:8080/",
          "height": 449
        },
        "id": "ndV7-OcPtfYP",
        "outputId": "dab9e87f-5cec-441e-a309-bcb2397f9bc7"
      },
      "execution_count": null,
      "outputs": [
        {
          "output_type": "display_data",
          "data": {
            "text/plain": [
              "<Figure size 640x480 with 1 Axes>"
            ],
            "image/png": "[encoded data removed]"
          },
          "metadata": {}
        }
      ]
    },
    {
      "cell_type": "code",
      "source": [
        "sns.countplot(x= 'Family', hue = 'Personal Loan', data = df)"
      ],
      "metadata": {
        "colab": {
          "base_uri": "https://localhost:8080/",
          "height": 466
        },
        "id": "w9Ia1AjevqT4",
        "outputId": "7f6e7d76-a0ef-4efc-d174-c60ec16d018f"
      },
      "execution_count": null,
      "outputs": [
        {
          "output_type": "execute_result",
          "data": {
            "text/plain": [
              "<Axes: xlabel='Family', ylabel='count'>"
            ]
          },
          "metadata": {},
          "execution_count": 114
        },
        {
          "output_type": "display_data",
          "data": {
            "text/plain": [
              "<Figure size 640x480 with 1 Axes>"
            ],
            "image/png": "[encoded data removed]"
          },
          "metadata": {}
        }
      ]
    },
    {
      "cell_type": "code",
      "source": [
        "sns.countplot(x = 'Age', hue = 'Personal Loan', data = df)\n",
        "plt.xticks(rotation = 90)\n",
        "plt.show()"
      ],
      "metadata": {
        "colab": {
          "base_uri": "https://localhost:8080/",
          "height": 454
        },
        "id": "1Sbg6xO5v3ar",
        "outputId": "e6465f24-fa94-45a1-b7e8-7bb8b6e2fff0"
      },
      "execution_count": null,
      "outputs": [
        {
          "output_type": "display_data",
          "data": {
            "text/plain": [
              "<Figure size 640x480 with 1 Axes>"
            ],
            "image/png": "[encoded data removed]"
          },
          "metadata": {}
        }
      ]
    },
    {
      "cell_type": "code",
      "source": [
        "sns.countplot(x = 'Experience', hue = 'Personal Loan', data = df)\n",
        "plt.xticks(rotation = 90)\n",
        "plt.show()"
      ],
      "metadata": {
        "colab": {
          "base_uri": "https://localhost:8080/",
          "height": 453
        },
        "id": "rGG3ZjKXwJ2D",
        "outputId": "5254eddd-7836-4221-888e-22527af58234"
      },
      "execution_count": null,
      "outputs": [
        {
          "output_type": "display_data",
          "data": {
            "text/plain": [
              "<Figure size 640x480 with 1 Axes>"
            ],
            "image/png": "[encoded data removed]"
          },
          "metadata": {}
        }
      ]
    },
    {
      "cell_type": "code",
      "source": [
        "sns.boxplot(df['ZIP Code'])\n",
        "plt.show()"
      ],
      "metadata": {
        "colab": {
          "base_uri": "https://localhost:8080/",
          "height": 413
        },
        "id": "PhjCFXlqwYsc",
        "outputId": "a12162cc-c179-49ec-d967-4c46bec81d2d"
      },
      "execution_count": null,
      "outputs": [
        {
          "output_type": "display_data",
          "data": {
            "text/plain": [
              "<Figure size 640x480 with 1 Axes>"
            ],
            "image/png": "[encoded data removed]"
          },
          "metadata": {}
        }
      ]
    },
    {
      "cell_type": "code",
      "source": [
        "sns.countplot( x = 'Age', hue = 'CreditCard', data = df)\n",
        "plt.xticks(rotation = 90)\n",
        "plt.show()"
      ],
      "metadata": {
        "colab": {
          "base_uri": "https://localhost:8080/",
          "height": 453
        },
        "id": "jFUjrfiNwnhH",
        "outputId": "5c1983de-13a7-4a1b-a966-e26fd5d2e478"
      },
      "execution_count": null,
      "outputs": [
        {
          "output_type": "display_data",
          "data": {
            "text/plain": [
              "<Figure size 640x480 with 1 Axes>"
            ],
            "image/png": "[encoded data removed]"
          },
          "metadata": {}
        }
      ]
    },
    {
      "cell_type": "markdown",
      "source": [
        "#Data Processing\n",
        "\n",
        "After visualising the data, I've decided to drop the ID column, the model wont learn anything from it. From the above boxplot, we can see that there isnt any postal code below 90000. Using that as the margin, I'll only be including zipcode information 90000 and above.\n",
        "\n",
        "I defined X and y variable, including everthing in the X variable except the Personal Loans and ket that as the y variable\n",
        "\n",
        "I decided to oversample the data because if I undersample it, I won't be left with much data to train my model on. Resample increased the data from 4999 rows to 9038 rows."
      ],
      "metadata": {
        "id": "7KmlpvpoO0ju"
      }
    },
    {
      "cell_type": "code",
      "source": [
        "from imblearn.over_sampling import RandomOverSampler"
      ],
      "metadata": {
        "id": "Yl2YjugwxYx4"
      },
      "execution_count": null,
      "outputs": []
    },
    {
      "cell_type": "code",
      "source": [
        "df.drop('ID', axis = 1, inplace = True)"
      ],
      "metadata": {
        "id": "SrCn21hgxC_0"
      },
      "execution_count": null,
      "outputs": []
    },
    {
      "cell_type": "code",
      "source": [
        "df.drop(df[df['ZIP Code']<20000].index, inplace = True)"
      ],
      "metadata": {
        "id": "8CrDWp3fxMHN"
      },
      "execution_count": null,
      "outputs": []
    },
    {
      "cell_type": "code",
      "source": [
        "#graph more visible after dropping\n",
        "sns.boxplot(df['ZIP Code'])\n",
        "plt.show()"
      ],
      "metadata": {
        "colab": {
          "base_uri": "https://localhost:8080/",
          "height": 411
        },
        "id": "dOuiWE48KGxs",
        "outputId": "7e0de1ed-a6e6-4475-d557-e7d3c5f8634b"
      },
      "execution_count": null,
      "outputs": [
        {
          "output_type": "display_data",
          "data": {
            "text/plain": [
              "<Figure size 640x480 with 1 Axes>"
            ],
            "image/png": "[encoded data removed]"
          },
          "metadata": {}
        }
      ]
    },
    {
      "cell_type": "code",
      "source": [
        "X = df. drop('Personal Loan', axis = 1)\n",
        "y = df['Personal Loan']"
      ],
      "metadata": {
        "id": "cIzLqMSoxkFH"
      },
      "execution_count": null,
      "outputs": []
    },
    {
      "cell_type": "code",
      "source": [
        "X.head()"
      ],
      "metadata": {
        "colab": {
          "base_uri": "https://localhost:8080/",
          "height": 243
        },
        "id": "8mBB6q9vxw6s",
        "outputId": "eaaf5554-7957-4a95-c5f4-f94c42340d7a"
      },
      "execution_count": null,
      "outputs": [
        {
          "output_type": "execute_result",
          "data": {
            "text/plain": [
              "   Age  Experience  Income  ZIP Code  Family  CCAvg  Education  Mortgage  \\\n",
              "0   25           1      49     91107       4    1.6          1         0   \n",
              "1   45          19      34     90089       3    1.5          1         0   \n",
              "2   39          15      11     94720       1    1.0          1         0   \n",
              "3   35           9     100     94112       1    2.7          2         0   \n",
              "4   35           8      45     91330       4    1.0          2         0   \n",
              "\n",
              "   Securities Account  CD Account  Online  CreditCard  \n",
              "0                   1           0       0           0  \n",
              "1                   1           0       0           0  \n",
              "2                   0           0       0           0  \n",
              "3                   0           0       0           0  \n",
              "4                   0           0       0           1  "
            ],
            "text/html": [
              "\n",
              "  <div id=\"df-99e8c145-f7f3-4fa4-8266-7c363d9d9210\" class=\"colab-df-container\">\n",
              "    <div>\n",
              "<style scoped>\n",
              "    .dataframe tbody tr th:only-of-type {\n",
              "        vertical-align: middle;\n",
              "    }\n",
              "\n",
              "    .dataframe tbody tr th {\n",
              "        vertical-align: top;\n",
              "    }\n",
              "\n",
              "    .dataframe thead th {\n",
              "        text-align: right;\n",
              "    }\n",
              "</style>\n",
              "<table border=\"1\" class=\"dataframe\">\n",
              "  <thead>\n",
              "    <tr style=\"text-align: right;\">\n",
              "      <th></th>\n",
              "      <th>Age</th>\n",
              "      <th>Experience</th>\n",
              "      <th>Income</th>\n",
              "      <th>ZIP Code</th>\n",
              "      <th>Family</th>\n",
              "      <th>CCAvg</th>\n",
              "      <th>Education</th>\n",
              "      <th>Mortgage</th>\n",
              "      <th>Securities Account</th>\n",
              "      <th>CD Account</th>\n",
              "      <th>Online</th>\n",
              "      <th>CreditCard</th>\n",
              "    </tr>\n",
              "  </thead>\n",
              "  <tbody>\n",
              "    <tr>\n",
              "      <th>0</th>\n",
              "      <td>25</td>\n",
              "      <td>1</td>\n",
              "      <td>49</td>\n",
              "      <td>91107</td>\n",
              "      <td>4</td>\n",
              "      <td>1.6</td>\n",
              "      <td>1</td>\n",
              "      <td>0</td>\n",
              "      <td>1</td>\n",
              "      <td>0</td>\n",
              "      <td>0</td>\n",
              "      <td>0</td>\n",
              "    </tr>\n",
              "    <tr>\n",
              "      <th>1</th>\n",
              "      <td>45</td>\n",
              "      <td>19</td>\n",
              "      <td>34</td>\n",
              "      <td>90089</td>\n",
              "      <td>3</td>\n",
              "      <td>1.5</td>\n",
              "      <td>1</td>\n",
              "      <td>0</td>\n",
              "      <td>1</td>\n",
              "      <td>0</td>\n",
              "      <td>0</td>\n",
              "      <td>0</td>\n",
              "    </tr>\n",
              "    <tr>\n",
              "      <th>2</th>\n",
              "      <td>39</td>\n",
              "      <td>15</td>\n",
              "      <td>11</td>\n",
              "      <td>94720</td>\n",
              "      <td>1</td>\n",
              "      <td>1.0</td>\n",
              "      <td>1</td>\n",
              "      <td>0</td>\n",
              "      <td>0</td>\n",
              "      <td>0</td>\n",
              "      <td>0</td>\n",
              "      <td>0</td>\n",
              "    </tr>\n",
              "    <tr>\n",
              "      <th>3</th>\n",
              "      <td>35</td>\n",
              "      <td>9</td>\n",
              "      <td>100</td>\n",
              "      <td>94112</td>\n",
              "      <td>1</td>\n",
              "      <td>2.7</td>\n",
              "      <td>2</td>\n",
              "      <td>0</td>\n",
              "      <td>0</td>\n",
              "      <td>0</td>\n",
              "      <td>0</td>\n",
              "      <td>0</td>\n",
              "    </tr>\n",
              "    <tr>\n",
              "      <th>4</th>\n",
              "      <td>35</td>\n",
              "      <td>8</td>\n",
              "      <td>45</td>\n",
              "      <td>91330</td>\n",
              "      <td>4</td>\n",
              "      <td>1.0</td>\n",
              "      <td>2</td>\n",
              "      <td>0</td>\n",
              "      <td>0</td>\n",
              "      <td>0</td>\n",
              "      <td>0</td>\n",
              "      <td>1</td>\n",
              "    </tr>\n",
              "  </tbody>\n",
              "</table>\n",
              "</div>\n",
              "    <div class=\"colab-df-buttons\">\n",
              "\n",
              "  <div class=\"colab-df-container\">\n",
              "    <button class=\"colab-df-convert\" onclick=\"convertToInteractive('df-99e8c145-f7f3-4fa4-8266-7c363d9d9210')\"\n",
              "            title=\"Convert this dataframe to an interactive table.\"\n",
              "            style=\"display:none;\">\n",
              "\n",
              "  <svg xmlns=\"http://www.w3.org/2000/svg\" height=\"24px\" viewBox=\"0 -960 960 960\">\n",
              "    <path d=\"M120-120v-720h720v720H120Zm60-500h600v-160H180v160Zm220 220h160v-160H400v160Zm0 220h160v-160H400v160ZM180-400h160v-160H180v160Zm440 0h160v-160H620v160ZM180-180h160v-160H180v160Zm440 0h160v-160H620v160Z\"/>\n",
              "  </svg>\n",
              "    </button>\n",
              "\n",
              "  <style>\n",
              "    .colab-df-container {\n",
              "      display:flex;\n",
              "      gap: 12px;\n",
              "    }\n",
              "\n",
              "    .colab-df-convert {\n",
              "      background-color: #E8F0FE;\n",
              "      border: none;\n",
              "      border-radius: 50%;\n",
              "      cursor: pointer;\n",
              "      display: none;\n",
              "      fill: #1967D2;\n",
              "      height: 32px;\n",
              "      padding: 0 0 0 0;\n",
              "      width: 32px;\n",
              "    }\n",
              "\n",
              "    .colab-df-convert:hover {\n",
              "      background-color: #E2EBFA;\n",
              "      box-shadow: 0px 1px 2px rgba(60, 64, 67, 0.3), 0px 1px 3px 1px rgba(60, 64, 67, 0.15);\n",
              "      fill: #174EA6;\n",
              "    }\n",
              "\n",
              "    .colab-df-buttons div {\n",
              "      margin-bottom: 4px;\n",
              "    }\n",
              "\n",
              "    [theme=dark] .colab-df-convert {\n",
              "      background-color: #3B4455;\n",
              "      fill: #D2E3FC;\n",
              "    }\n",
              "\n",
              "    [theme=dark] .colab-df-convert:hover {\n",
              "      background-color: #434B5C;\n",
              "      box-shadow: 0px 1px 3px 1px rgba(0, 0, 0, 0.15);\n",
              "      filter: drop-shadow(0px 1px 2px rgba(0, 0, 0, 0.3));\n",
              "      fill: #FFFFFF;\n",
              "    }\n",
              "  </style>\n",
              "\n",
              "    <script>\n",
              "      const buttonEl =\n",
              "        document.querySelector('#df-99e8c145-f7f3-4fa4-8266-7c363d9d9210 button.colab-df-convert');\n",
              "      buttonEl.style.display =\n",
              "        google.colab.kernel.accessAllowed ? 'block' : 'none';\n",
              "\n",
              "      async function convertToInteractive(key) {\n",
              "        const element = document.querySelector('#df-99e8c145-f7f3-4fa4-8266-7c363d9d9210');\n",
              "        const dataTable =\n",
              "          await google.colab.kernel.invokeFunction('convertToInteractive',\n",
              "                                                    [key], {});\n",
              "        if (!dataTable) return;\n",
              "\n",
              "        const docLinkHtml = 'Like what you see? Visit the ' +\n",
              "          '<a target=\"_blank\" href=https://colab.research.google.com/notebooks/data_table.ipynb>data table notebook</a>'\n",
              "          + ' to learn more about interactive tables.';\n",
              "        element.innerHTML = '';\n",
              "        dataTable['output_type'] = 'display_data';\n",
              "        await google.colab.output.renderOutput(dataTable, element);\n",
              "        const docLink = document.createElement('div');\n",
              "        docLink.innerHTML = docLinkHtml;\n",
              "        element.appendChild(docLink);\n",
              "      }\n",
              "    </script>\n",
              "  </div>\n",
              "\n",
              "\n",
              "<div id=\"df-85d4c595-d0c4-469e-a851-4ff917146c2a\">\n",
              "  <button class=\"colab-df-quickchart\" onclick=\"quickchart('df-85d4c595-d0c4-469e-a851-4ff917146c2a')\"\n",
              "            title=\"Suggest charts\"\n",
              "            style=\"display:none;\">\n",
              "\n",
              "<svg xmlns=\"http://www.w3.org/2000/svg\" height=\"24px\"viewBox=\"0 0 24 24\"\n",
              "     width=\"24px\">\n",
              "    <g>\n",
              "        <path d=\"M19 3H5c-1.1 0-2 .9-2 2v14c0 1.1.9 2 2 2h14c1.1 0 2-.9 2-2V5c0-1.1-.9-2-2-2zM9 17H7v-7h2v7zm4 0h-2V7h2v10zm4 0h-2v-4h2v4z\"/>\n",
              "    </g>\n",
              "</svg>\n",
              "  </button>\n",
              "\n",
              "<style>\n",
              "  .colab-df-quickchart {\n",
              "      --bg-color: #E8F0FE;\n",
              "      --fill-color: #1967D2;\n",
              "      --hover-bg-color: #E2EBFA;\n",
              "      --hover-fill-color: #174EA6;\n",
              "      --disabled-fill-color: #AAA;\n",
              "      --disabled-bg-color: #DDD;\n",
              "  }\n",
              "\n",
              "  [theme=dark] .colab-df-quickchart {\n",
              "      --bg-color: #3B4455;\n",
              "      --fill-color: #D2E3FC;\n",
              "      --hover-bg-color: #434B5C;\n",
              "      --hover-fill-color: #FFFFFF;\n",
              "      --disabled-bg-color: #3B4455;\n",
              "      --disabled-fill-color: #666;\n",
              "  }\n",
              "\n",
              "  .colab-df-quickchart {\n",
              "    background-color: var(--bg-color);\n",
              "    border: none;\n",
              "    border-radius: 50%;\n",
              "    cursor: pointer;\n",
              "    display: none;\n",
              "    fill: var(--fill-color);\n",
              "    height: 32px;\n",
              "    padding: 0;\n",
              "    width: 32px;\n",
              "  }\n",
              "\n",
              "  .colab-df-quickchart:hover {\n",
              "    background-color: var(--hover-bg-color);\n",
              "    box-shadow: 0 1px 2px rgba(60, 64, 67, 0.3), 0 1px 3px 1px rgba(60, 64, 67, 0.15);\n",
              "    fill: var(--button-hover-fill-color);\n",
              "  }\n",
              "\n",
              "  .colab-df-quickchart-complete:disabled,\n",
              "  .colab-df-quickchart-complete:disabled:hover {\n",
              "    background-color: var(--disabled-bg-color);\n",
              "    fill: var(--disabled-fill-color);\n",
              "    box-shadow: none;\n",
              "  }\n",
              "\n",
              "  .colab-df-spinner {\n",
              "    border: 2px solid var(--fill-color);\n",
              "    border-color: transparent;\n",
              "    border-bottom-color: var(--fill-color);\n",
              "    animation:\n",
              "      spin 1s steps(1) infinite;\n",
              "  }\n",
              "\n",
              "  @keyframes spin {\n",
              "    0% {\n",
              "      border-color: transparent;\n",
              "      border-bottom-color: var(--fill-color);\n",
              "      border-left-color: var(--fill-color);\n",
              "    }\n",
              "    20% {\n",
              "      border-color: transparent;\n",
              "      border-left-color: var(--fill-color);\n",
              "      border-top-color: var(--fill-color);\n",
              "    }\n",
              "    30% {\n",
              "      border-color: transparent;\n",
              "      border-left-color: var(--fill-color);\n",
              "      border-top-color: var(--fill-color);\n",
              "      border-right-color: var(--fill-color);\n",
              "    }\n",
              "    40% {\n",
              "      border-color: transparent;\n",
              "      border-right-color: var(--fill-color);\n",
              "      border-top-color: var(--fill-color);\n",
              "    }\n",
              "    60% {\n",
              "      border-color: transparent;\n",
              "      border-right-color: var(--fill-color);\n",
              "    }\n",
              "    80% {\n",
              "      border-color: transparent;\n",
              "      border-right-color: var(--fill-color);\n",
              "      border-bottom-color: var(--fill-color);\n",
              "    }\n",
              "    90% {\n",
              "      border-color: transparent;\n",
              "      border-bottom-color: var(--fill-color);\n",
              "    }\n",
              "  }\n",
              "</style>\n",
              "\n",
              "  <script>\n",
              "    async function quickchart(key) {\n",
              "      const quickchartButtonEl =\n",
              "        document.querySelector('#' + key + ' button');\n",
              "      quickchartButtonEl.disabled = true;  // To prevent multiple clicks.\n",
              "      quickchartButtonEl.classList.add('colab-df-spinner');\n",
              "      try {\n",
              "        const charts = await google.colab.kernel.invokeFunction(\n",
              "            'suggestCharts', [key], {});\n",
              "      } catch (error) {\n",
              "        console.error('Error during call to suggestCharts:', error);\n",
              "      }\n",
              "      quickchartButtonEl.classList.remove('colab-df-spinner');\n",
              "      quickchartButtonEl.classList.add('colab-df-quickchart-complete');\n",
              "    }\n",
              "    (() => {\n",
              "      let quickchartButtonEl =\n",
              "        document.querySelector('#df-85d4c595-d0c4-469e-a851-4ff917146c2a button');\n",
              "      quickchartButtonEl.style.display =\n",
              "        google.colab.kernel.accessAllowed ? 'block' : 'none';\n",
              "    })();\n",
              "  </script>\n",
              "</div>\n",
              "    </div>\n",
              "  </div>\n"
            ],
            "application/vnd.google.colaboratory.intrinsic+json": {
              "type": "dataframe",
              "variable_name": "X",
              "summary": "{\n  \"name\": \"X\",\n  \"rows\": 4999,\n  \"fields\": [\n    {\n      \"column\": \"Age\",\n      \"properties\": {\n        \"dtype\": \"number\",\n        \"std\": 11,\n        \"min\": 23,\n        \"max\": 67,\n        \"num_unique_values\": 45,\n        \"samples\": [\n          24,\n          31,\n          51\n        ],\n        \"semantic_type\": \"\",\n        \"description\": \"\"\n      }\n    },\n    {\n      \"column\": \"Experience\",\n      \"properties\": {\n        \"dtype\": \"number\",\n        \"std\": 11,\n        \"min\": -3,\n        \"max\": 43,\n        \"num_unique_values\": 47,\n        \"samples\": [\n          12,\n          38,\n          7\n        ],\n        \"semantic_type\": \"\",\n        \"description\": \"\"\n      }\n    },\n    {\n      \"column\": \"Income\",\n      \"properties\": {\n        \"dtype\": \"number\",\n        \"std\": 46,\n        \"min\": 8,\n        \"max\": 224,\n        \"num_unique_values\": 162,\n        \"samples\": [\n          151,\n          75,\n          182\n        ],\n        \"semantic_type\": \"\",\n        \"description\": \"\"\n      }\n    },\n    {\n      \"column\": \"ZIP Code\",\n      \"properties\": {\n        \"dtype\": \"number\",\n        \"std\": 1759,\n        \"min\": 90005,\n        \"max\": 96651,\n        \"num_unique_values\": 466,\n        \"samples\": [\n          91335,\n          95134,\n          92672\n        ],\n        \"semantic_type\": \"\",\n        \"description\": \"\"\n      }\n    },\n    {\n      \"column\": \"Family\",\n      \"properties\": {\n        \"dtype\": \"number\",\n        \"std\": 1,\n        \"min\": 1,\n        \"max\": 4,\n        \"num_unique_values\": 4,\n        \"samples\": [\n          3,\n          2,\n          4\n        ],\n        \"semantic_type\": \"\",\n        \"description\": \"\"\n      }\n    },\n    {\n      \"column\": \"CCAvg\",\n      \"properties\": {\n        \"dtype\": \"number\",\n        \"std\": 1.747731325700526,\n        \"min\": 0.0,\n        \"max\": 10.0,\n        \"num_unique_values\": 108,\n        \"samples\": [\n          3.4,\n          3.8,\n          0.4\n        ],\n        \"semantic_type\": \"\",\n        \"description\": \"\"\n      }\n    },\n    {\n      \"column\": \"Education\",\n      \"properties\": {\n        \"dtype\": \"number\",\n        \"std\": 0,\n        \"min\": 1,\n        \"max\": 3,\n        \"num_unique_values\": 3,\n        \"samples\": [\n          1,\n          2,\n          3\n        ],\n        \"semantic_type\": \"\",\n        \"description\": \"\"\n      }\n    },\n    {\n      \"column\": \"Mortgage\",\n      \"properties\": {\n        \"dtype\": \"number\",\n        \"std\": 101,\n        \"min\": 0,\n        \"max\": 635,\n        \"num_unique_values\": 347,\n        \"samples\": [\n          330,\n          314,\n          258\n        ],\n        \"semantic_type\": \"\",\n        \"description\": \"\"\n      }\n    },\n    {\n      \"column\": \"Securities Account\",\n      \"properties\": {\n        \"dtype\": \"number\",\n        \"std\": 0,\n        \"min\": 0,\n        \"max\": 1,\n        \"num_unique_values\": 2,\n        \"samples\": [\n          0,\n          1\n        ],\n        \"semantic_type\": \"\",\n        \"description\": \"\"\n      }\n    },\n    {\n      \"column\": \"CD Account\",\n      \"properties\": {\n        \"dtype\": \"number\",\n        \"std\": 0,\n        \"min\": 0,\n        \"max\": 1,\n        \"num_unique_values\": 2,\n        \"samples\": [\n          1,\n          0\n        ],\n        \"semantic_type\": \"\",\n        \"description\": \"\"\n      }\n    },\n    {\n      \"column\": \"Online\",\n      \"properties\": {\n        \"dtype\": \"number\",\n        \"std\": 0,\n        \"min\": 0,\n        \"max\": 1,\n        \"num_unique_values\": 2,\n        \"samples\": [\n          1,\n          0\n        ],\n        \"semantic_type\": \"\",\n        \"description\": \"\"\n      }\n    },\n    {\n      \"column\": \"CreditCard\",\n      \"properties\": {\n        \"dtype\": \"number\",\n        \"std\": 0,\n        \"min\": 0,\n        \"max\": 1,\n        \"num_unique_values\": 2,\n        \"samples\": [\n          1,\n          0\n        ],\n        \"semantic_type\": \"\",\n        \"description\": \"\"\n      }\n    }\n  ]\n}"
            }
          },
          "metadata": {},
          "execution_count": 125
        }
      ]
    },
    {
      "cell_type": "code",
      "source": [
        "X.shape"
      ],
      "metadata": {
        "colab": {
          "base_uri": "https://localhost:8080/"
        },
        "id": "Yx_WuqAox4GV",
        "outputId": "8e5198c3-3065-4eb3-82f6-7c5f344daf2c"
      },
      "execution_count": null,
      "outputs": [
        {
          "output_type": "execute_result",
          "data": {
            "text/plain": [
              "(4999, 12)"
            ]
          },
          "metadata": {},
          "execution_count": 126
        }
      ]
    },
    {
      "cell_type": "code",
      "source": [
        "y.shape"
      ],
      "metadata": {
        "colab": {
          "base_uri": "https://localhost:8080/"
        },
        "id": "nqnxiaA3TjY6",
        "outputId": "b7251e4a-1dfd-4172-9463-4499a224c333"
      },
      "execution_count": null,
      "outputs": [
        {
          "output_type": "execute_result",
          "data": {
            "text/plain": [
              "(4999,)"
            ]
          },
          "metadata": {},
          "execution_count": 127
        }
      ]
    },
    {
      "cell_type": "code",
      "source": [
        "sample = RandomOverSampler()\n",
        "X, y = sample.fit_resample(X,y)\n",
        "X.shape"
      ],
      "metadata": {
        "colab": {
          "base_uri": "https://localhost:8080/"
        },
        "id": "t-pDbvDzx6OF",
        "outputId": "11846ca8-0fb8-4b73-c1a9-9945721ecb5c"
      },
      "execution_count": null,
      "outputs": [
        {
          "output_type": "execute_result",
          "data": {
            "text/plain": [
              "(9038, 12)"
            ]
          },
          "metadata": {},
          "execution_count": 128
        }
      ]
    },
    {
      "cell_type": "code",
      "source": [
        "print(X.shape)\n",
        "print(y.shape)"
      ],
      "metadata": {
        "colab": {
          "base_uri": "https://localhost:8080/"
        },
        "id": "y9KDqJpkKcHy",
        "outputId": "3f0da2f5-5dfa-42d7-a2d7-db718ad6a096"
      },
      "execution_count": null,
      "outputs": [
        {
          "output_type": "stream",
          "name": "stdout",
          "text": [
            "(9038, 12)\n",
            "(9038,)\n"
          ]
        }
      ]
    },
    {
      "cell_type": "markdown",
      "source": [
        "#Splitting Dataset\n",
        "\n",
        "Using the train_test_split function, I'll be creating a train, test and validation set. The validation set will be used to check how much the model has learned during the training before introducing it to the test set.\n",
        "\n",
        "I chose test size .25 at random.\n",
        "\n",
        "I'm also scaling the X_train, X_test, and X_valid to make them all fit within the same scale. ONly the X_train has been fit_transformed so that what ever is leanred from that can be used to transform the X_test and X_valid. This scaling will only affect the following columns Age, Experience, Income, Zipcode, Family, Education and CCAVg. The rest will remain as they are."
      ],
      "metadata": {
        "id": "8aEvDnlOO7LU"
      }
    },
    {
      "cell_type": "code",
      "source": [
        "from sklearn.model_selection import train_test_split\n",
        "from sklearn.preprocessing import StandardScaler"
      ],
      "metadata": {
        "id": "3DbT8RSWyhEo"
      },
      "execution_count": null,
      "outputs": []
    },
    {
      "cell_type": "code",
      "source": [
        "X_train, X_test, y_train, y_test = train_test_split(X,y, test_size = 0.25)\n",
        "X_train, X_valid, y_train, y_valid = train_test_split(X,y, test_size = 0.25)"
      ],
      "metadata": {
        "id": "ERfI0NtRyMCj"
      },
      "execution_count": null,
      "outputs": []
    },
    {
      "cell_type": "code",
      "source": [
        "scaler = StandardScaler()\n",
        "X_train = scaler.fit_transform(X_train)\n",
        "X_test = scaler.transform(X_test)\n",
        "X_valid = scaler.transform(X_valid)"
      ],
      "metadata": {
        "id": "Q8-kOjtNyzcE"
      },
      "execution_count": null,
      "outputs": []
    },
    {
      "cell_type": "markdown",
      "source": [
        "#Modelling\n",
        "After importing the necessary libraries and the Sequential model. I imported the layers Dense, Flatten and Dropout and the activaton functions LeakyReLU and PReLU.\n",
        "\n",
        "I chose to only run four models and compare them.\n",
        "\n",
        "Created an early_stopping variable and set it to monitor val_loss and gave it a patience of 20. This is so that if the val_loss remains the same during the training then after 20 seconds, it should automatically stop running.\n",
        "\n",
        "When training the models, the batch size is set to 30 and no of epochs 500.\n",
        "\n",
        "For the first model: the metrics was initiall set to accuracy, but when it started running the accuracy started with  60% and gradually went down to 20. val_accuracy was also low. So I switched it to binary_accuracy and it worked in reverse, starting with 80% and steadly going higher.\n",
        "These were the values after trianing :\n",
        "1. loss: 0.0221\n",
        "2. binary_accuracy: 0.9944\n",
        "3. val_loss: 0.0587\n",
        "4. val_binary_accuracy: 0.980\n",
        "\n",
        "Module 2: Kept it same but increased the number of unit in the dense layer, and introduced another dense layer and set activation to keras.layers.LeakyReLU(alpha=0.03).\n",
        "These were the values after trianing :\n",
        "1. loss: 0.0018\n",
        "2. binary_accuracy: 0.9997\n",
        "3. val_loss: 0.0470\n",
        "4. val_binary_accuracy: 0.9909\n",
        "\n",
        "Module 3: this was left the same as module 3 but I introduced a dropout layer and set it to 0.25% and changed the optimizer from adam to rmsprop.\n",
        "These were the values after trianing :\n",
        "1. loss: 0.0122\n",
        "2. binary_accuracy: 0.9965\n",
        "3. val_loss: 0.0543\n",
        "4. val_binary_accuracy: 0.9920\n",
        "\n",
        "Module 4: For this I introduced another layer dense layer with activation keras.layers.LeakyReLU(alpha=0.02).\n",
        "These were the values after trianing :\n",
        "1. loss: 0.0177\n",
        "2. binary_accuracy: 0.9970\n",
        "3. val_loss: 0.0481\n",
        "4. val_binary_accuracy: 0.9898\n",
        "\n",
        "I'll be plotting the loss, val_loss, val_binary_accuracy and binary_accuracy od module two since it has the lowest loss. Their Binary accuracy are all in 99 but that of module2 is much higher, almost reach a 100 if rounded up."
      ],
      "metadata": {
        "id": "CiXIrFXUQtJy"
      }
    },
    {
      "cell_type": "code",
      "source": [
        "import tensorflow as tf\n",
        "import keras\n",
        "from tensorflow.keras.models import Sequential\n",
        "from tensorflow.keras.layers import Dense, Flatten\n",
        "from tensorflow.keras.layers import LeakyReLU, PReLU\n",
        "from tensorflow.keras.layers import Dropout"
      ],
      "metadata": {
        "id": "EXbEWsJ-zWYk"
      },
      "execution_count": null,
      "outputs": []
    },
    {
      "cell_type": "code",
      "source": [
        "early_stopping = tf.keras.callbacks.EarlyStopping(monitor = 'val_loss', mode = 'auto', patience = 20 )"
      ],
      "metadata": {
        "id": "Awl1Mw-izzAX"
      },
      "execution_count": null,
      "outputs": []
    },
    {
      "cell_type": "code",
      "source": [
        "mod1 = Sequential()\n",
        "mod1.add(Dense(units = 14, input_shape = (12,), activation = 'relu'))\n",
        "mod1.add(Dense(units = 10,  activation = 'relu'))\n",
        "mod1.add(Dense(units = 6, activation = 'relu'))\n",
        "mod1.add(Dense(units = 2,  activation = 'sigmoid'))\n",
        "mod1.add(Flatten())\n",
        "mod1.compile(loss='binary_crossentropy', optimizer = 'adam', metrics = ['binary_accuracy'])\n",
        "mod1.summary()"
      ],
      "metadata": {
        "id": "QnaXgO6G0FRL",
        "colab": {
          "base_uri": "https://localhost:8080/"
        },
        "outputId": "2772a095-5454-45a4-d251-0836e0b43867"
      },
      "execution_count": null,
      "outputs": [
        {
          "output_type": "stream",
          "name": "stdout",
          "text": [
            "Model: \"sequential_16\"\n",
            "_________________________________________________________________\n",
            " Layer (type)                Output Shape              Param #   \n",
            "=================================================================\n",
            " dense_67 (Dense)            (None, 14)                182       \n",
            "                                                                 \n",
            " dense_68 (Dense)            (None, 10)                150       \n",
            "                                                                 \n",
            " dense_69 (Dense)            (None, 6)                 66        \n",
            "                                                                 \n",
            " dense_70 (Dense)            (None, 2)                 14        \n",
            "                                                                 \n",
            " flatten_13 (Flatten)        (None, 2)                 0         \n",
            "                                                                 \n",
            "=================================================================\n",
            "Total params: 412 (1.61 KB)\n",
            "Trainable params: 412 (1.61 KB)\n",
            "Non-trainable params: 0 (0.00 Byte)\n",
            "_________________________________________________________________\n"
          ]
        }
      ]
    },
    {
      "cell_type": "code",
      "source": [
        "hist1 = mod1.fit(X_train, y_train, epochs = 500, validation_data = (X_valid, y_valid), batch_size = 30, callbacks = early_stopping)"
      ],
      "metadata": {
        "id": "WWgvw4uY1HVF",
        "colab": {
          "base_uri": "https://localhost:8080/"
        },
        "outputId": "84b6826f-8bda-46c9-d7d7-726bcc54c53f"
      },
      "execution_count": null,
      "outputs": [
        {
          "output_type": "stream",
          "name": "stdout",
          "text": [
            "Epoch 1/500\n",
            "226/226 [==============================] - 2s 4ms/step - loss: 0.5857 - binary_accuracy: 0.6884 - val_loss: 0.3800 - val_binary_accuracy: 0.8562\n",
            "Epoch 2/500\n",
            "226/226 [==============================] - 1s 3ms/step - loss: 0.2398 - binary_accuracy: 0.9121 - val_loss: 0.2017 - val_binary_accuracy: 0.9199\n",
            "Epoch 3/500\n",
            "226/226 [==============================] - 1s 3ms/step - loss: 0.1727 - binary_accuracy: 0.9321 - val_loss: 0.1649 - val_binary_accuracy: 0.9321\n",
            "Epoch 4/500\n",
            "226/226 [==============================] - 1s 3ms/step - loss: 0.1482 - binary_accuracy: 0.9411 - val_loss: 0.1399 - val_binary_accuracy: 0.9451\n",
            "Epoch 5/500\n",
            "226/226 [==============================] - 1s 3ms/step - loss: 0.1299 - binary_accuracy: 0.9506 - val_loss: 0.1274 - val_binary_accuracy: 0.9493\n",
            "Epoch 6/500\n",
            "226/226 [==============================] - 1s 3ms/step - loss: 0.1176 - binary_accuracy: 0.9586 - val_loss: 0.1120 - val_binary_accuracy: 0.9619\n",
            "Epoch 7/500\n",
            "226/226 [==============================] - 1s 3ms/step - loss: 0.1077 - binary_accuracy: 0.9616 - val_loss: 0.1048 - val_binary_accuracy: 0.9637\n",
            "Epoch 8/500\n",
            "226/226 [==============================] - 1s 4ms/step - loss: 0.1004 - binary_accuracy: 0.9657 - val_loss: 0.1066 - val_binary_accuracy: 0.9668\n",
            "Epoch 9/500\n",
            "226/226 [==============================] - 1s 4ms/step - loss: 0.0953 - binary_accuracy: 0.9686 - val_loss: 0.0979 - val_binary_accuracy: 0.9670\n",
            "Epoch 10/500\n",
            "226/226 [==============================] - 1s 5ms/step - loss: 0.0902 - binary_accuracy: 0.9689 - val_loss: 0.0908 - val_binary_accuracy: 0.9706\n",
            "Epoch 11/500\n",
            "226/226 [==============================] - 1s 3ms/step - loss: 0.0853 - binary_accuracy: 0.9715 - val_loss: 0.0911 - val_binary_accuracy: 0.9688\n",
            "Epoch 12/500\n",
            "226/226 [==============================] - 1s 3ms/step - loss: 0.0832 - binary_accuracy: 0.9716 - val_loss: 0.0881 - val_binary_accuracy: 0.9706\n",
            "Epoch 13/500\n",
            "226/226 [==============================] - 1s 3ms/step - loss: 0.0781 - binary_accuracy: 0.9738 - val_loss: 0.0887 - val_binary_accuracy: 0.9717\n",
            "Epoch 14/500\n",
            "226/226 [==============================] - 1s 3ms/step - loss: 0.0752 - binary_accuracy: 0.9747 - val_loss: 0.0839 - val_binary_accuracy: 0.9737\n",
            "Epoch 15/500\n",
            "226/226 [==============================] - 1s 3ms/step - loss: 0.0724 - binary_accuracy: 0.9755 - val_loss: 0.0803 - val_binary_accuracy: 0.9730\n",
            "Epoch 16/500\n",
            "226/226 [==============================] - 1s 3ms/step - loss: 0.0700 - binary_accuracy: 0.9760 - val_loss: 0.0802 - val_binary_accuracy: 0.9743\n",
            "Epoch 17/500\n",
            "226/226 [==============================] - 1s 3ms/step - loss: 0.0675 - binary_accuracy: 0.9770 - val_loss: 0.0791 - val_binary_accuracy: 0.9748\n",
            "Epoch 18/500\n",
            "226/226 [==============================] - 1s 3ms/step - loss: 0.0652 - binary_accuracy: 0.9772 - val_loss: 0.0758 - val_binary_accuracy: 0.9759\n",
            "Epoch 19/500\n",
            "226/226 [==============================] - 1s 3ms/step - loss: 0.0626 - binary_accuracy: 0.9776 - val_loss: 0.0778 - val_binary_accuracy: 0.9763\n",
            "Epoch 20/500\n",
            "226/226 [==============================] - 1s 3ms/step - loss: 0.0618 - binary_accuracy: 0.9780 - val_loss: 0.0722 - val_binary_accuracy: 0.9748\n",
            "Epoch 21/500\n",
            "226/226 [==============================] - 1s 3ms/step - loss: 0.0598 - binary_accuracy: 0.9779 - val_loss: 0.0696 - val_binary_accuracy: 0.9732\n",
            "Epoch 22/500\n",
            "226/226 [==============================] - 1s 3ms/step - loss: 0.0576 - binary_accuracy: 0.9785 - val_loss: 0.0693 - val_binary_accuracy: 0.9757\n",
            "Epoch 23/500\n",
            "226/226 [==============================] - 1s 3ms/step - loss: 0.0562 - binary_accuracy: 0.9783 - val_loss: 0.0704 - val_binary_accuracy: 0.9768\n",
            "Epoch 24/500\n",
            "226/226 [==============================] - 1s 3ms/step - loss: 0.0544 - binary_accuracy: 0.9797 - val_loss: 0.0719 - val_binary_accuracy: 0.9792\n",
            "Epoch 25/500\n",
            "226/226 [==============================] - 1s 3ms/step - loss: 0.0542 - binary_accuracy: 0.9795 - val_loss: 0.0677 - val_binary_accuracy: 0.9768\n",
            "Epoch 26/500\n",
            "226/226 [==============================] - 1s 6ms/step - loss: 0.0513 - binary_accuracy: 0.9793 - val_loss: 0.0675 - val_binary_accuracy: 0.9785\n",
            "Epoch 27/500\n",
            "226/226 [==============================] - 1s 5ms/step - loss: 0.0508 - binary_accuracy: 0.9820 - val_loss: 0.0662 - val_binary_accuracy: 0.9770\n",
            "Epoch 28/500\n",
            "226/226 [==============================] - 1s 3ms/step - loss: 0.0492 - binary_accuracy: 0.9816 - val_loss: 0.0652 - val_binary_accuracy: 0.9801\n",
            "Epoch 29/500\n",
            "226/226 [==============================] - 1s 3ms/step - loss: 0.0484 - binary_accuracy: 0.9828 - val_loss: 0.0665 - val_binary_accuracy: 0.9739\n",
            "Epoch 30/500\n",
            "226/226 [==============================] - 1s 3ms/step - loss: 0.0471 - binary_accuracy: 0.9830 - val_loss: 0.0617 - val_binary_accuracy: 0.9796\n",
            "Epoch 31/500\n",
            "226/226 [==============================] - 1s 3ms/step - loss: 0.0453 - binary_accuracy: 0.9841 - val_loss: 0.0632 - val_binary_accuracy: 0.9812\n",
            "Epoch 32/500\n",
            "226/226 [==============================] - 1s 3ms/step - loss: 0.0439 - binary_accuracy: 0.9844 - val_loss: 0.0657 - val_binary_accuracy: 0.9821\n",
            "Epoch 33/500\n",
            "226/226 [==============================] - 1s 3ms/step - loss: 0.0430 - binary_accuracy: 0.9842 - val_loss: 0.0602 - val_binary_accuracy: 0.9823\n",
            "Epoch 34/500\n",
            "226/226 [==============================] - 1s 3ms/step - loss: 0.0422 - binary_accuracy: 0.9841 - val_loss: 0.0614 - val_binary_accuracy: 0.9803\n",
            "Epoch 35/500\n",
            "226/226 [==============================] - 1s 3ms/step - loss: 0.0414 - binary_accuracy: 0.9856 - val_loss: 0.0612 - val_binary_accuracy: 0.9801\n",
            "Epoch 36/500\n",
            "226/226 [==============================] - 1s 3ms/step - loss: 0.0405 - binary_accuracy: 0.9846 - val_loss: 0.0575 - val_binary_accuracy: 0.9832\n",
            "Epoch 37/500\n",
            "226/226 [==============================] - 1s 3ms/step - loss: 0.0396 - binary_accuracy: 0.9866 - val_loss: 0.0551 - val_binary_accuracy: 0.9856\n",
            "Epoch 38/500\n",
            "226/226 [==============================] - 1s 3ms/step - loss: 0.0389 - binary_accuracy: 0.9878 - val_loss: 0.0541 - val_binary_accuracy: 0.9856\n",
            "Epoch 39/500\n",
            "226/226 [==============================] - 1s 3ms/step - loss: 0.0377 - binary_accuracy: 0.9886 - val_loss: 0.0535 - val_binary_accuracy: 0.9827\n",
            "Epoch 40/500\n",
            "226/226 [==============================] - 1s 3ms/step - loss: 0.0374 - binary_accuracy: 0.9874 - val_loss: 0.0546 - val_binary_accuracy: 0.9838\n",
            "Epoch 41/500\n",
            "226/226 [==============================] - 1s 3ms/step - loss: 0.0363 - binary_accuracy: 0.9882 - val_loss: 0.0543 - val_binary_accuracy: 0.9836\n",
            "Epoch 42/500\n",
            "226/226 [==============================] - 1s 4ms/step - loss: 0.0357 - binary_accuracy: 0.9895 - val_loss: 0.0553 - val_binary_accuracy: 0.9845\n",
            "Epoch 43/500\n",
            "226/226 [==============================] - 1s 5ms/step - loss: 0.0355 - binary_accuracy: 0.9889 - val_loss: 0.0530 - val_binary_accuracy: 0.9838\n",
            "Epoch 44/500\n",
            "226/226 [==============================] - 1s 5ms/step - loss: 0.0354 - binary_accuracy: 0.9886 - val_loss: 0.0534 - val_binary_accuracy: 0.9819\n",
            "Epoch 45/500\n",
            "226/226 [==============================] - 1s 3ms/step - loss: 0.0332 - binary_accuracy: 0.9901 - val_loss: 0.0538 - val_binary_accuracy: 0.9836\n",
            "Epoch 46/500\n",
            "226/226 [==============================] - 1s 3ms/step - loss: 0.0338 - binary_accuracy: 0.9886 - val_loss: 0.0547 - val_binary_accuracy: 0.9854\n",
            "Epoch 47/500\n",
            "226/226 [==============================] - 1s 3ms/step - loss: 0.0322 - binary_accuracy: 0.9898 - val_loss: 0.0566 - val_binary_accuracy: 0.9850\n",
            "Epoch 48/500\n",
            "226/226 [==============================] - 1s 3ms/step - loss: 0.0321 - binary_accuracy: 0.9903 - val_loss: 0.0555 - val_binary_accuracy: 0.9850\n",
            "Epoch 49/500\n",
            "226/226 [==============================] - 1s 4ms/step - loss: 0.0321 - binary_accuracy: 0.9892 - val_loss: 0.0527 - val_binary_accuracy: 0.9856\n",
            "Epoch 50/500\n",
            "226/226 [==============================] - 1s 3ms/step - loss: 0.0319 - binary_accuracy: 0.9903 - val_loss: 0.0564 - val_binary_accuracy: 0.9845\n",
            "Epoch 51/500\n",
            "226/226 [==============================] - 1s 3ms/step - loss: 0.0307 - binary_accuracy: 0.9911 - val_loss: 0.0535 - val_binary_accuracy: 0.9845\n",
            "Epoch 52/500\n",
            "226/226 [==============================] - 1s 3ms/step - loss: 0.0306 - binary_accuracy: 0.9906 - val_loss: 0.0566 - val_binary_accuracy: 0.9827\n",
            "Epoch 53/500\n",
            "226/226 [==============================] - 1s 3ms/step - loss: 0.0324 - binary_accuracy: 0.9897 - val_loss: 0.0519 - val_binary_accuracy: 0.9861\n",
            "Epoch 54/500\n",
            "226/226 [==============================] - 1s 3ms/step - loss: 0.0295 - binary_accuracy: 0.9907 - val_loss: 0.0573 - val_binary_accuracy: 0.9845\n",
            "Epoch 55/500\n",
            "226/226 [==============================] - 1s 3ms/step - loss: 0.0292 - binary_accuracy: 0.9917 - val_loss: 0.0565 - val_binary_accuracy: 0.9841\n",
            "Epoch 56/500\n",
            "226/226 [==============================] - 1s 3ms/step - loss: 0.0281 - binary_accuracy: 0.9921 - val_loss: 0.0542 - val_binary_accuracy: 0.9852\n",
            "Epoch 57/500\n",
            "226/226 [==============================] - 1s 3ms/step - loss: 0.0287 - binary_accuracy: 0.9916 - val_loss: 0.0556 - val_binary_accuracy: 0.9850\n",
            "Epoch 58/500\n",
            "226/226 [==============================] - 1s 3ms/step - loss: 0.0278 - binary_accuracy: 0.9912 - val_loss: 0.0539 - val_binary_accuracy: 0.9852\n",
            "Epoch 59/500\n",
            "226/226 [==============================] - 1s 4ms/step - loss: 0.0272 - binary_accuracy: 0.9917 - val_loss: 0.0547 - val_binary_accuracy: 0.9854\n",
            "Epoch 60/500\n",
            "226/226 [==============================] - 1s 4ms/step - loss: 0.0270 - binary_accuracy: 0.9925 - val_loss: 0.0610 - val_binary_accuracy: 0.9805\n",
            "Epoch 61/500\n",
            "226/226 [==============================] - 1s 5ms/step - loss: 0.0269 - binary_accuracy: 0.9917 - val_loss: 0.0574 - val_binary_accuracy: 0.9863\n",
            "Epoch 62/500\n",
            "226/226 [==============================] - 1s 3ms/step - loss: 0.0255 - binary_accuracy: 0.9931 - val_loss: 0.0536 - val_binary_accuracy: 0.9872\n",
            "Epoch 63/500\n",
            "226/226 [==============================] - 1s 3ms/step - loss: 0.0254 - binary_accuracy: 0.9929 - val_loss: 0.0569 - val_binary_accuracy: 0.9863\n",
            "Epoch 64/500\n",
            "226/226 [==============================] - 1s 3ms/step - loss: 0.0255 - binary_accuracy: 0.9927 - val_loss: 0.0556 - val_binary_accuracy: 0.9861\n",
            "Epoch 65/500\n",
            "226/226 [==============================] - 1s 3ms/step - loss: 0.0246 - binary_accuracy: 0.9931 - val_loss: 0.0559 - val_binary_accuracy: 0.9867\n",
            "Epoch 66/500\n",
            "226/226 [==============================] - 1s 3ms/step - loss: 0.0238 - binary_accuracy: 0.9938 - val_loss: 0.0548 - val_binary_accuracy: 0.9836\n",
            "Epoch 67/500\n",
            "226/226 [==============================] - 1s 3ms/step - loss: 0.0246 - binary_accuracy: 0.9936 - val_loss: 0.0547 - val_binary_accuracy: 0.9867\n",
            "Epoch 68/500\n",
            "226/226 [==============================] - 1s 3ms/step - loss: 0.0227 - binary_accuracy: 0.9940 - val_loss: 0.0591 - val_binary_accuracy: 0.9825\n",
            "Epoch 69/500\n",
            "226/226 [==============================] - 1s 3ms/step - loss: 0.0240 - binary_accuracy: 0.9924 - val_loss: 0.0548 - val_binary_accuracy: 0.9863\n",
            "Epoch 70/500\n",
            "226/226 [==============================] - 1s 3ms/step - loss: 0.0246 - binary_accuracy: 0.9928 - val_loss: 0.0544 - val_binary_accuracy: 0.9863\n",
            "Epoch 71/500\n",
            "226/226 [==============================] - 1s 3ms/step - loss: 0.0224 - binary_accuracy: 0.9939 - val_loss: 0.0569 - val_binary_accuracy: 0.9863\n",
            "Epoch 72/500\n",
            "226/226 [==============================] - 1s 3ms/step - loss: 0.0223 - binary_accuracy: 0.9940 - val_loss: 0.0522 - val_binary_accuracy: 0.9867\n",
            "Epoch 73/500\n",
            "226/226 [==============================] - 1s 3ms/step - loss: 0.0221 - binary_accuracy: 0.9944 - val_loss: 0.0587 - val_binary_accuracy: 0.9801\n"
          ]
        }
      ]
    },
    {
      "cell_type": "code",
      "source": [
        "mod2 = Sequential()\n",
        "mod2.add(Dense(units = 24, input_shape = (12,), activation = 'relu'))\n",
        "mod2.add(Dense(units = 15,  activation = 'relu'))\n",
        "mod2.add(Dense(units = 10,  activation = keras.layers.LeakyReLU(alpha=0.03)))\n",
        "mod2.add(Dense(units = 9, activation = 'relu'))\n",
        "mod2.add(Dense(units = 2,  activation = 'sigmoid'))\n",
        "mod2.add(Flatten())\n",
        "mod2.compile(loss='binary_crossentropy', optimizer = 'adam', metrics = ['binary_accuracy'])\n",
        "mod2.summary()"
      ],
      "metadata": {
        "id": "EeglSsUU1fvR",
        "colab": {
          "base_uri": "https://localhost:8080/"
        },
        "outputId": "da43e1f0-dea4-48da-8693-4eb7dabb7d5c"
      },
      "execution_count": null,
      "outputs": [
        {
          "output_type": "stream",
          "name": "stdout",
          "text": [
            "Model: \"sequential_17\"\n",
            "_________________________________________________________________\n",
            " Layer (type)                Output Shape              Param #   \n",
            "=================================================================\n",
            " dense_71 (Dense)            (None, 24)                312       \n",
            "                                                                 \n",
            " dense_72 (Dense)            (None, 15)                375       \n",
            "                                                                 \n",
            " dense_73 (Dense)            (None, 10)                160       \n",
            "                                                                 \n",
            " dense_74 (Dense)            (None, 9)                 99        \n",
            "                                                                 \n",
            " dense_75 (Dense)            (None, 2)                 20        \n",
            "                                                                 \n",
            " flatten_14 (Flatten)        (None, 2)                 0         \n",
            "                                                                 \n",
            "=================================================================\n",
            "Total params: 966 (3.77 KB)\n",
            "Trainable params: 966 (3.77 KB)\n",
            "Non-trainable params: 0 (0.00 Byte)\n",
            "_________________________________________________________________\n"
          ]
        }
      ]
    },
    {
      "cell_type": "code",
      "source": [
        "hist2 = mod2.fit(X_train, y_train, epochs = 500, validation_data = (X_valid, y_valid), batch_size = 30, callbacks = early_stopping)"
      ],
      "metadata": {
        "id": "bYqt86VT2bcE",
        "colab": {
          "base_uri": "https://localhost:8080/"
        },
        "outputId": "663d9a29-8dc4-48b7-93ae-2b790b11efb1"
      },
      "execution_count": null,
      "outputs": [
        {
          "output_type": "stream",
          "name": "stdout",
          "text": [
            "Epoch 1/500\n",
            "226/226 [==============================] - 2s 4ms/step - loss: 0.4414 - binary_accuracy: 0.7877 - val_loss: 0.2186 - val_binary_accuracy: 0.9186\n",
            "Epoch 2/500\n",
            "226/226 [==============================] - 1s 3ms/step - loss: 0.1662 - binary_accuracy: 0.9357 - val_loss: 0.1437 - val_binary_accuracy: 0.9502\n",
            "Epoch 3/500\n",
            "226/226 [==============================] - 1s 3ms/step - loss: 0.1227 - binary_accuracy: 0.9577 - val_loss: 0.1183 - val_binary_accuracy: 0.9611\n",
            "Epoch 4/500\n",
            "226/226 [==============================] - 1s 3ms/step - loss: 0.1064 - binary_accuracy: 0.9657 - val_loss: 0.1058 - val_binary_accuracy: 0.9648\n",
            "Epoch 5/500\n",
            "226/226 [==============================] - 1s 3ms/step - loss: 0.0966 - binary_accuracy: 0.9686 - val_loss: 0.0993 - val_binary_accuracy: 0.9650\n",
            "Epoch 6/500\n",
            "226/226 [==============================] - 1s 3ms/step - loss: 0.0905 - binary_accuracy: 0.9703 - val_loss: 0.1058 - val_binary_accuracy: 0.9602\n",
            "Epoch 7/500\n",
            "226/226 [==============================] - 1s 3ms/step - loss: 0.0844 - binary_accuracy: 0.9713 - val_loss: 0.0970 - val_binary_accuracy: 0.9697\n",
            "Epoch 8/500\n",
            "226/226 [==============================] - 1s 3ms/step - loss: 0.0807 - binary_accuracy: 0.9735 - val_loss: 0.0894 - val_binary_accuracy: 0.9681\n",
            "Epoch 9/500\n",
            "226/226 [==============================] - 1s 5ms/step - loss: 0.0746 - binary_accuracy: 0.9740 - val_loss: 0.0863 - val_binary_accuracy: 0.9692\n",
            "Epoch 10/500\n",
            "226/226 [==============================] - 1s 6ms/step - loss: 0.0689 - binary_accuracy: 0.9760 - val_loss: 0.0750 - val_binary_accuracy: 0.9732\n",
            "Epoch 11/500\n",
            "226/226 [==============================] - 1s 4ms/step - loss: 0.0651 - binary_accuracy: 0.9799 - val_loss: 0.0755 - val_binary_accuracy: 0.9730\n",
            "Epoch 12/500\n",
            "226/226 [==============================] - 1s 3ms/step - loss: 0.0583 - binary_accuracy: 0.9809 - val_loss: 0.0650 - val_binary_accuracy: 0.9801\n",
            "Epoch 13/500\n",
            "226/226 [==============================] - 1s 3ms/step - loss: 0.0550 - binary_accuracy: 0.9820 - val_loss: 0.0689 - val_binary_accuracy: 0.9761\n",
            "Epoch 14/500\n",
            "226/226 [==============================] - 1s 3ms/step - loss: 0.0513 - binary_accuracy: 0.9823 - val_loss: 0.0709 - val_binary_accuracy: 0.9792\n",
            "Epoch 15/500\n",
            "226/226 [==============================] - 1s 3ms/step - loss: 0.0455 - binary_accuracy: 0.9840 - val_loss: 0.0551 - val_binary_accuracy: 0.9841\n",
            "Epoch 16/500\n",
            "226/226 [==============================] - 1s 3ms/step - loss: 0.0418 - binary_accuracy: 0.9847 - val_loss: 0.0533 - val_binary_accuracy: 0.9847\n",
            "Epoch 17/500\n",
            "226/226 [==============================] - 1s 3ms/step - loss: 0.0376 - binary_accuracy: 0.9876 - val_loss: 0.0584 - val_binary_accuracy: 0.9812\n",
            "Epoch 18/500\n",
            "226/226 [==============================] - 1s 4ms/step - loss: 0.0330 - binary_accuracy: 0.9903 - val_loss: 0.0609 - val_binary_accuracy: 0.9825\n",
            "Epoch 19/500\n",
            "226/226 [==============================] - 1s 3ms/step - loss: 0.0307 - binary_accuracy: 0.9907 - val_loss: 0.0462 - val_binary_accuracy: 0.9858\n",
            "Epoch 20/500\n",
            "226/226 [==============================] - 1s 3ms/step - loss: 0.0286 - binary_accuracy: 0.9913 - val_loss: 0.0455 - val_binary_accuracy: 0.9878\n",
            "Epoch 21/500\n",
            "226/226 [==============================] - 1s 3ms/step - loss: 0.0256 - binary_accuracy: 0.9930 - val_loss: 0.0522 - val_binary_accuracy: 0.9843\n",
            "Epoch 22/500\n",
            "226/226 [==============================] - 1s 3ms/step - loss: 0.0260 - binary_accuracy: 0.9926 - val_loss: 0.0455 - val_binary_accuracy: 0.9881\n",
            "Epoch 23/500\n",
            "226/226 [==============================] - 1s 3ms/step - loss: 0.0204 - binary_accuracy: 0.9940 - val_loss: 0.0455 - val_binary_accuracy: 0.9885\n",
            "Epoch 24/500\n",
            "226/226 [==============================] - 1s 3ms/step - loss: 0.0195 - binary_accuracy: 0.9942 - val_loss: 0.0495 - val_binary_accuracy: 0.9854\n",
            "Epoch 25/500\n",
            "226/226 [==============================] - 1s 5ms/step - loss: 0.0175 - binary_accuracy: 0.9946 - val_loss: 0.0476 - val_binary_accuracy: 0.9876\n",
            "Epoch 26/500\n",
            "226/226 [==============================] - 1s 5ms/step - loss: 0.0166 - binary_accuracy: 0.9951 - val_loss: 0.0505 - val_binary_accuracy: 0.9850\n",
            "Epoch 27/500\n",
            "226/226 [==============================] - 1s 4ms/step - loss: 0.0166 - binary_accuracy: 0.9948 - val_loss: 0.0517 - val_binary_accuracy: 0.9869\n",
            "Epoch 28/500\n",
            "226/226 [==============================] - 1s 3ms/step - loss: 0.0142 - binary_accuracy: 0.9962 - val_loss: 0.0539 - val_binary_accuracy: 0.9852\n",
            "Epoch 29/500\n",
            "226/226 [==============================] - 1s 3ms/step - loss: 0.0113 - binary_accuracy: 0.9973 - val_loss: 0.0551 - val_binary_accuracy: 0.9845\n",
            "Epoch 30/500\n",
            "226/226 [==============================] - 1s 3ms/step - loss: 0.0104 - binary_accuracy: 0.9975 - val_loss: 0.0541 - val_binary_accuracy: 0.9852\n",
            "Epoch 31/500\n",
            "226/226 [==============================] - 1s 3ms/step - loss: 0.0104 - binary_accuracy: 0.9973 - val_loss: 0.0521 - val_binary_accuracy: 0.9867\n",
            "Epoch 32/500\n",
            "226/226 [==============================] - 1s 6ms/step - loss: 0.0094 - binary_accuracy: 0.9979 - val_loss: 0.0558 - val_binary_accuracy: 0.9852\n",
            "Epoch 33/500\n",
            "226/226 [==============================] - 1s 5ms/step - loss: 0.0085 - binary_accuracy: 0.9981 - val_loss: 0.0632 - val_binary_accuracy: 0.9867\n",
            "Epoch 34/500\n",
            "226/226 [==============================] - 1s 6ms/step - loss: 0.0206 - binary_accuracy: 0.9941 - val_loss: 0.0517 - val_binary_accuracy: 0.9869\n",
            "Epoch 35/500\n",
            "226/226 [==============================] - 2s 7ms/step - loss: 0.0094 - binary_accuracy: 0.9973 - val_loss: 0.0539 - val_binary_accuracy: 0.9863\n",
            "Epoch 36/500\n",
            "226/226 [==============================] - 1s 5ms/step - loss: 0.0098 - binary_accuracy: 0.9969 - val_loss: 0.0407 - val_binary_accuracy: 0.9896\n",
            "Epoch 37/500\n",
            "226/226 [==============================] - 2s 10ms/step - loss: 0.0067 - binary_accuracy: 0.9985 - val_loss: 0.0532 - val_binary_accuracy: 0.9872\n",
            "Epoch 38/500\n",
            "226/226 [==============================] - 2s 9ms/step - loss: 0.0062 - binary_accuracy: 0.9988 - val_loss: 0.0555 - val_binary_accuracy: 0.9858\n",
            "Epoch 39/500\n",
            "226/226 [==============================] - 1s 3ms/step - loss: 0.0071 - binary_accuracy: 0.9981 - val_loss: 0.0527 - val_binary_accuracy: 0.9894\n",
            "Epoch 40/500\n",
            "226/226 [==============================] - 1s 3ms/step - loss: 0.0058 - binary_accuracy: 0.9989 - val_loss: 0.0435 - val_binary_accuracy: 0.9903\n",
            "Epoch 41/500\n",
            "226/226 [==============================] - 1s 3ms/step - loss: 0.0123 - binary_accuracy: 0.9964 - val_loss: 0.0524 - val_binary_accuracy: 0.9845\n",
            "Epoch 42/500\n",
            "226/226 [==============================] - 1s 3ms/step - loss: 0.0071 - binary_accuracy: 0.9979 - val_loss: 0.0607 - val_binary_accuracy: 0.9876\n",
            "Epoch 43/500\n",
            "226/226 [==============================] - 1s 3ms/step - loss: 0.0061 - binary_accuracy: 0.9983 - val_loss: 0.0660 - val_binary_accuracy: 0.9850\n",
            "Epoch 44/500\n",
            "226/226 [==============================] - 1s 3ms/step - loss: 0.0045 - binary_accuracy: 0.9987 - val_loss: 0.0476 - val_binary_accuracy: 0.9898\n",
            "Epoch 45/500\n",
            "226/226 [==============================] - 1s 3ms/step - loss: 0.0070 - binary_accuracy: 0.9977 - val_loss: 0.0608 - val_binary_accuracy: 0.9872\n",
            "Epoch 46/500\n",
            "226/226 [==============================] - 1s 3ms/step - loss: 0.0100 - binary_accuracy: 0.9970 - val_loss: 0.0844 - val_binary_accuracy: 0.9816\n",
            "Epoch 47/500\n",
            "226/226 [==============================] - 1s 3ms/step - loss: 0.0052 - binary_accuracy: 0.9979 - val_loss: 0.0595 - val_binary_accuracy: 0.9883\n",
            "Epoch 48/500\n",
            "226/226 [==============================] - 1s 4ms/step - loss: 0.0044 - binary_accuracy: 0.9990 - val_loss: 0.0611 - val_binary_accuracy: 0.9869\n",
            "Epoch 49/500\n",
            "226/226 [==============================] - 1s 4ms/step - loss: 0.0030 - binary_accuracy: 0.9991 - val_loss: 0.0560 - val_binary_accuracy: 0.9885\n",
            "Epoch 50/500\n",
            "226/226 [==============================] - 1s 3ms/step - loss: 0.0055 - binary_accuracy: 0.9979 - val_loss: 0.0525 - val_binary_accuracy: 0.9858\n",
            "Epoch 51/500\n",
            "226/226 [==============================] - 1s 3ms/step - loss: 0.0040 - binary_accuracy: 0.9985 - val_loss: 0.0567 - val_binary_accuracy: 0.9885\n",
            "Epoch 52/500\n",
            "226/226 [==============================] - 1s 5ms/step - loss: 0.0095 - binary_accuracy: 0.9972 - val_loss: 0.0762 - val_binary_accuracy: 0.9843\n",
            "Epoch 53/500\n",
            "226/226 [==============================] - 1s 6ms/step - loss: 0.0159 - binary_accuracy: 0.9947 - val_loss: 0.0736 - val_binary_accuracy: 0.9845\n",
            "Epoch 54/500\n",
            "226/226 [==============================] - 1s 4ms/step - loss: 0.0040 - binary_accuracy: 0.9988 - val_loss: 0.0445 - val_binary_accuracy: 0.9905\n",
            "Epoch 55/500\n",
            "226/226 [==============================] - 1s 3ms/step - loss: 0.0023 - binary_accuracy: 0.9996 - val_loss: 0.0517 - val_binary_accuracy: 0.9894\n",
            "Epoch 56/500\n",
            "226/226 [==============================] - 1s 3ms/step - loss: 0.0018 - binary_accuracy: 0.9997 - val_loss: 0.0470 - val_binary_accuracy: 0.9909\n"
          ]
        }
      ]
    },
    {
      "cell_type": "code",
      "source": [
        "mod3 = Sequential()\n",
        "mod3.add(Dense(units = 24, input_shape = (12,), activation = 'relu'))\n",
        "mod3.add(Dense(units = 15,  activation = 'relu'))\n",
        "mod3.add(Dense(units = 10,  activation = keras.layers.LeakyReLU(alpha=.03)))\n",
        "mod3.add(Dense(units = 9, activation = 'relu'))\n",
        "mod3.add(Dropout(0.25))\n",
        "mod3.add(Dense(units = 2,  activation = 'sigmoid'))\n",
        "mod3.add(Flatten())\n",
        "mod3.compile(loss='binary_crossentropy', optimizer = 'rmsprop', metrics = ['binary_accuracy'])\n",
        "mod3.summary()"
      ],
      "metadata": {
        "id": "U56DjDfF2xle",
        "colab": {
          "base_uri": "https://localhost:8080/"
        },
        "outputId": "6172374c-6ec6-4327-d775-ac20d810c3fe"
      },
      "execution_count": null,
      "outputs": [
        {
          "output_type": "stream",
          "name": "stdout",
          "text": [
            "Model: \"sequential_18\"\n",
            "_________________________________________________________________\n",
            " Layer (type)                Output Shape              Param #   \n",
            "=================================================================\n",
            " dense_76 (Dense)            (None, 24)                312       \n",
            "                                                                 \n",
            " dense_77 (Dense)            (None, 15)                375       \n",
            "                                                                 \n",
            " dense_78 (Dense)            (None, 10)                160       \n",
            "                                                                 \n",
            " dense_79 (Dense)            (None, 9)                 99        \n",
            "                                                                 \n",
            " dropout_3 (Dropout)         (None, 9)                 0         \n",
            "                                                                 \n",
            " dense_80 (Dense)            (None, 2)                 20        \n",
            "                                                                 \n",
            " flatten_15 (Flatten)        (None, 2)                 0         \n",
            "                                                                 \n",
            "=================================================================\n",
            "Total params: 966 (3.77 KB)\n",
            "Trainable params: 966 (3.77 KB)\n",
            "Non-trainable params: 0 (0.00 Byte)\n",
            "_________________________________________________________________\n"
          ]
        }
      ]
    },
    {
      "cell_type": "code",
      "source": [
        "hist3 = mod3.fit(X_train, y_train, epochs = 500, validation_data = (X_valid, y_valid), batch_size = 30, callbacks = early_stopping)"
      ],
      "metadata": {
        "id": "oP1Iqomm3LCG",
        "colab": {
          "base_uri": "https://localhost:8080/"
        },
        "outputId": "7c87c466-5cd3-4c50-db78-e3f477b76e38"
      },
      "execution_count": null,
      "outputs": [
        {
          "output_type": "stream",
          "name": "stdout",
          "text": [
            "Epoch 1/500\n",
            "226/226 [==============================] - 2s 4ms/step - loss: 0.4866 - binary_accuracy: 0.8011 - val_loss: 0.3052 - val_binary_accuracy: 0.8861\n",
            "Epoch 2/500\n",
            "226/226 [==============================] - 1s 3ms/step - loss: 0.2500 - binary_accuracy: 0.9155 - val_loss: 0.2031 - val_binary_accuracy: 0.9228\n",
            "Epoch 3/500\n",
            "226/226 [==============================] - 1s 3ms/step - loss: 0.1815 - binary_accuracy: 0.9386 - val_loss: 0.1467 - val_binary_accuracy: 0.9487\n",
            "Epoch 4/500\n",
            "226/226 [==============================] - 1s 5ms/step - loss: 0.1485 - binary_accuracy: 0.9544 - val_loss: 0.1238 - val_binary_accuracy: 0.9635\n",
            "Epoch 5/500\n",
            "226/226 [==============================] - 1s 5ms/step - loss: 0.1268 - binary_accuracy: 0.9604 - val_loss: 0.1193 - val_binary_accuracy: 0.9513\n",
            "Epoch 6/500\n",
            "226/226 [==============================] - 1s 4ms/step - loss: 0.1115 - binary_accuracy: 0.9655 - val_loss: 0.1002 - val_binary_accuracy: 0.9688\n",
            "Epoch 7/500\n",
            "226/226 [==============================] - 1s 3ms/step - loss: 0.1064 - binary_accuracy: 0.9676 - val_loss: 0.0902 - val_binary_accuracy: 0.9673\n",
            "Epoch 8/500\n",
            "226/226 [==============================] - 1s 3ms/step - loss: 0.0967 - binary_accuracy: 0.9704 - val_loss: 0.0897 - val_binary_accuracy: 0.9659\n",
            "Epoch 9/500\n",
            "226/226 [==============================] - 1s 3ms/step - loss: 0.0899 - binary_accuracy: 0.9734 - val_loss: 0.0838 - val_binary_accuracy: 0.9695\n",
            "Epoch 10/500\n",
            "226/226 [==============================] - 1s 3ms/step - loss: 0.0809 - binary_accuracy: 0.9762 - val_loss: 0.0719 - val_binary_accuracy: 0.9748\n",
            "Epoch 11/500\n",
            "226/226 [==============================] - 1s 3ms/step - loss: 0.0773 - binary_accuracy: 0.9761 - val_loss: 0.0678 - val_binary_accuracy: 0.9761\n",
            "Epoch 12/500\n",
            "226/226 [==============================] - 1s 3ms/step - loss: 0.0703 - binary_accuracy: 0.9782 - val_loss: 0.0652 - val_binary_accuracy: 0.9801\n",
            "Epoch 13/500\n",
            "226/226 [==============================] - 1s 3ms/step - loss: 0.0668 - binary_accuracy: 0.9811 - val_loss: 0.0587 - val_binary_accuracy: 0.9812\n",
            "Epoch 14/500\n",
            "226/226 [==============================] - 1s 3ms/step - loss: 0.0606 - binary_accuracy: 0.9842 - val_loss: 0.0556 - val_binary_accuracy: 0.9816\n",
            "Epoch 15/500\n",
            "226/226 [==============================] - 1s 3ms/step - loss: 0.0562 - binary_accuracy: 0.9827 - val_loss: 0.0528 - val_binary_accuracy: 0.9816\n",
            "Epoch 16/500\n",
            "226/226 [==============================] - 1s 3ms/step - loss: 0.0515 - binary_accuracy: 0.9859 - val_loss: 0.0528 - val_binary_accuracy: 0.9801\n",
            "Epoch 17/500\n",
            "226/226 [==============================] - 1s 3ms/step - loss: 0.0468 - binary_accuracy: 0.9862 - val_loss: 0.0447 - val_binary_accuracy: 0.9863\n",
            "Epoch 18/500\n",
            "226/226 [==============================] - 1s 3ms/step - loss: 0.0444 - binary_accuracy: 0.9878 - val_loss: 0.0427 - val_binary_accuracy: 0.9876\n",
            "Epoch 19/500\n",
            "226/226 [==============================] - 1s 3ms/step - loss: 0.0428 - binary_accuracy: 0.9886 - val_loss: 0.0483 - val_binary_accuracy: 0.9819\n",
            "Epoch 20/500\n",
            "226/226 [==============================] - 1s 3ms/step - loss: 0.0395 - binary_accuracy: 0.9903 - val_loss: 0.0442 - val_binary_accuracy: 0.9852\n",
            "Epoch 21/500\n",
            "226/226 [==============================] - 1s 4ms/step - loss: 0.0356 - binary_accuracy: 0.9911 - val_loss: 0.0398 - val_binary_accuracy: 0.9898\n",
            "Epoch 22/500\n",
            "226/226 [==============================] - 1s 4ms/step - loss: 0.0335 - binary_accuracy: 0.9909 - val_loss: 0.0521 - val_binary_accuracy: 0.9843\n",
            "Epoch 23/500\n",
            "226/226 [==============================] - 1s 5ms/step - loss: 0.0330 - binary_accuracy: 0.9914 - val_loss: 0.0362 - val_binary_accuracy: 0.9898\n",
            "Epoch 24/500\n",
            "226/226 [==============================] - 1s 3ms/step - loss: 0.0333 - binary_accuracy: 0.9907 - val_loss: 0.0426 - val_binary_accuracy: 0.9889\n",
            "Epoch 25/500\n",
            "226/226 [==============================] - 1s 3ms/step - loss: 0.0314 - binary_accuracy: 0.9920 - val_loss: 0.0395 - val_binary_accuracy: 0.9894\n",
            "Epoch 26/500\n",
            "226/226 [==============================] - 1s 3ms/step - loss: 0.0308 - binary_accuracy: 0.9917 - val_loss: 0.0419 - val_binary_accuracy: 0.9885\n",
            "Epoch 27/500\n",
            "226/226 [==============================] - 1s 3ms/step - loss: 0.0284 - binary_accuracy: 0.9923 - val_loss: 0.0457 - val_binary_accuracy: 0.9867\n",
            "Epoch 28/500\n",
            "226/226 [==============================] - 1s 3ms/step - loss: 0.0279 - binary_accuracy: 0.9927 - val_loss: 0.0400 - val_binary_accuracy: 0.9885\n",
            "Epoch 29/500\n",
            "226/226 [==============================] - 1s 3ms/step - loss: 0.0260 - binary_accuracy: 0.9933 - val_loss: 0.0448 - val_binary_accuracy: 0.9858\n",
            "Epoch 30/500\n",
            "226/226 [==============================] - 1s 3ms/step - loss: 0.0274 - binary_accuracy: 0.9930 - val_loss: 0.0481 - val_binary_accuracy: 0.9854\n",
            "Epoch 31/500\n",
            "226/226 [==============================] - 1s 3ms/step - loss: 0.0253 - binary_accuracy: 0.9937 - val_loss: 0.0372 - val_binary_accuracy: 0.9900\n",
            "Epoch 32/500\n",
            "226/226 [==============================] - 1s 3ms/step - loss: 0.0246 - binary_accuracy: 0.9937 - val_loss: 0.0449 - val_binary_accuracy: 0.9863\n",
            "Epoch 33/500\n",
            "226/226 [==============================] - 1s 3ms/step - loss: 0.0225 - binary_accuracy: 0.9941 - val_loss: 0.0415 - val_binary_accuracy: 0.9898\n",
            "Epoch 34/500\n",
            "226/226 [==============================] - 1s 3ms/step - loss: 0.0235 - binary_accuracy: 0.9933 - val_loss: 0.0369 - val_binary_accuracy: 0.9889\n",
            "Epoch 35/500\n",
            "226/226 [==============================] - 1s 3ms/step - loss: 0.0206 - binary_accuracy: 0.9946 - val_loss: 0.0365 - val_binary_accuracy: 0.9898\n",
            "Epoch 36/500\n",
            "226/226 [==============================] - 1s 3ms/step - loss: 0.0227 - binary_accuracy: 0.9938 - val_loss: 0.0343 - val_binary_accuracy: 0.9903\n",
            "Epoch 37/500\n",
            "226/226 [==============================] - 1s 3ms/step - loss: 0.0214 - binary_accuracy: 0.9946 - val_loss: 0.0478 - val_binary_accuracy: 0.9876\n",
            "Epoch 38/500\n",
            "226/226 [==============================] - 1s 3ms/step - loss: 0.0201 - binary_accuracy: 0.9943 - val_loss: 0.0466 - val_binary_accuracy: 0.9883\n",
            "Epoch 39/500\n",
            "226/226 [==============================] - 1s 4ms/step - loss: 0.0202 - binary_accuracy: 0.9946 - val_loss: 0.0409 - val_binary_accuracy: 0.9916\n",
            "Epoch 40/500\n",
            "226/226 [==============================] - 1s 5ms/step - loss: 0.0205 - binary_accuracy: 0.9944 - val_loss: 0.0365 - val_binary_accuracy: 0.9898\n",
            "Epoch 41/500\n",
            "226/226 [==============================] - 1s 4ms/step - loss: 0.0200 - binary_accuracy: 0.9940 - val_loss: 0.0434 - val_binary_accuracy: 0.9894\n",
            "Epoch 42/500\n",
            "226/226 [==============================] - 1s 3ms/step - loss: 0.0170 - binary_accuracy: 0.9957 - val_loss: 0.0404 - val_binary_accuracy: 0.9916\n",
            "Epoch 43/500\n",
            "226/226 [==============================] - 1s 3ms/step - loss: 0.0192 - binary_accuracy: 0.9957 - val_loss: 0.0351 - val_binary_accuracy: 0.9920\n",
            "Epoch 44/500\n",
            "226/226 [==============================] - 1s 3ms/step - loss: 0.0196 - binary_accuracy: 0.9952 - val_loss: 0.0528 - val_binary_accuracy: 0.9850\n",
            "Epoch 45/500\n",
            "226/226 [==============================] - 1s 3ms/step - loss: 0.0195 - binary_accuracy: 0.9945 - val_loss: 0.0353 - val_binary_accuracy: 0.9912\n",
            "Epoch 46/500\n",
            "226/226 [==============================] - 1s 3ms/step - loss: 0.0188 - binary_accuracy: 0.9947 - val_loss: 0.0390 - val_binary_accuracy: 0.9923\n",
            "Epoch 47/500\n",
            "226/226 [==============================] - 1s 3ms/step - loss: 0.0179 - binary_accuracy: 0.9951 - val_loss: 0.0398 - val_binary_accuracy: 0.9914\n",
            "Epoch 48/500\n",
            "226/226 [==============================] - 1s 3ms/step - loss: 0.0176 - binary_accuracy: 0.9959 - val_loss: 0.0397 - val_binary_accuracy: 0.9916\n",
            "Epoch 49/500\n",
            "226/226 [==============================] - 1s 3ms/step - loss: 0.0163 - binary_accuracy: 0.9954 - val_loss: 0.0492 - val_binary_accuracy: 0.9894\n",
            "Epoch 50/500\n",
            "226/226 [==============================] - 1s 3ms/step - loss: 0.0184 - binary_accuracy: 0.9954 - val_loss: 0.0764 - val_binary_accuracy: 0.9779\n",
            "Epoch 51/500\n",
            "226/226 [==============================] - 1s 3ms/step - loss: 0.0180 - binary_accuracy: 0.9951 - val_loss: 0.0356 - val_binary_accuracy: 0.9929\n",
            "Epoch 52/500\n",
            "226/226 [==============================] - 1s 3ms/step - loss: 0.0164 - binary_accuracy: 0.9953 - val_loss: 0.0459 - val_binary_accuracy: 0.9867\n",
            "Epoch 53/500\n",
            "226/226 [==============================] - 1s 3ms/step - loss: 0.0176 - binary_accuracy: 0.9952 - val_loss: 0.0520 - val_binary_accuracy: 0.9876\n",
            "Epoch 54/500\n",
            "226/226 [==============================] - 1s 3ms/step - loss: 0.0203 - binary_accuracy: 0.9941 - val_loss: 0.0322 - val_binary_accuracy: 0.9920\n",
            "Epoch 55/500\n",
            "226/226 [==============================] - 1s 3ms/step - loss: 0.0171 - binary_accuracy: 0.9956 - val_loss: 0.0421 - val_binary_accuracy: 0.9889\n",
            "Epoch 56/500\n",
            "226/226 [==============================] - 1s 4ms/step - loss: 0.0176 - binary_accuracy: 0.9953 - val_loss: 0.0460 - val_binary_accuracy: 0.9903\n",
            "Epoch 57/500\n",
            "226/226 [==============================] - 1s 5ms/step - loss: 0.0158 - binary_accuracy: 0.9965 - val_loss: 0.0466 - val_binary_accuracy: 0.9881\n",
            "Epoch 58/500\n",
            "226/226 [==============================] - 1s 5ms/step - loss: 0.0164 - binary_accuracy: 0.9957 - val_loss: 0.0471 - val_binary_accuracy: 0.9878\n",
            "Epoch 59/500\n",
            "226/226 [==============================] - 1s 3ms/step - loss: 0.0180 - binary_accuracy: 0.9953 - val_loss: 0.0508 - val_binary_accuracy: 0.9903\n",
            "Epoch 60/500\n",
            "226/226 [==============================] - 1s 3ms/step - loss: 0.0146 - binary_accuracy: 0.9966 - val_loss: 0.0614 - val_binary_accuracy: 0.9867\n",
            "Epoch 61/500\n",
            "226/226 [==============================] - 1s 3ms/step - loss: 0.0181 - binary_accuracy: 0.9956 - val_loss: 0.0438 - val_binary_accuracy: 0.9907\n",
            "Epoch 62/500\n",
            "226/226 [==============================] - 1s 3ms/step - loss: 0.0143 - binary_accuracy: 0.9966 - val_loss: 0.0619 - val_binary_accuracy: 0.9889\n",
            "Epoch 63/500\n",
            "226/226 [==============================] - 1s 3ms/step - loss: 0.0157 - binary_accuracy: 0.9966 - val_loss: 0.0474 - val_binary_accuracy: 0.9858\n",
            "Epoch 64/500\n",
            "226/226 [==============================] - 1s 3ms/step - loss: 0.0171 - binary_accuracy: 0.9956 - val_loss: 0.0683 - val_binary_accuracy: 0.9878\n",
            "Epoch 65/500\n",
            "226/226 [==============================] - 1s 3ms/step - loss: 0.0129 - binary_accuracy: 0.9969 - val_loss: 0.0416 - val_binary_accuracy: 0.9916\n",
            "Epoch 66/500\n",
            "226/226 [==============================] - 1s 3ms/step - loss: 0.0160 - binary_accuracy: 0.9958 - val_loss: 0.0469 - val_binary_accuracy: 0.9907\n",
            "Epoch 67/500\n",
            "226/226 [==============================] - 1s 3ms/step - loss: 0.0139 - binary_accuracy: 0.9963 - val_loss: 0.0447 - val_binary_accuracy: 0.9907\n",
            "Epoch 68/500\n",
            "226/226 [==============================] - 1s 3ms/step - loss: 0.0141 - binary_accuracy: 0.9965 - val_loss: 0.0463 - val_binary_accuracy: 0.9907\n",
            "Epoch 69/500\n",
            "226/226 [==============================] - 1s 3ms/step - loss: 0.0161 - binary_accuracy: 0.9960 - val_loss: 0.0506 - val_binary_accuracy: 0.9903\n",
            "Epoch 70/500\n",
            "226/226 [==============================] - 1s 3ms/step - loss: 0.0142 - binary_accuracy: 0.9965 - val_loss: 0.0481 - val_binary_accuracy: 0.9907\n",
            "Epoch 71/500\n",
            "226/226 [==============================] - 1s 3ms/step - loss: 0.0121 - binary_accuracy: 0.9975 - val_loss: 0.0580 - val_binary_accuracy: 0.9898\n",
            "Epoch 72/500\n",
            "226/226 [==============================] - 1s 3ms/step - loss: 0.0130 - binary_accuracy: 0.9966 - val_loss: 0.0508 - val_binary_accuracy: 0.9903\n",
            "Epoch 73/500\n",
            "226/226 [==============================] - 1s 4ms/step - loss: 0.0116 - binary_accuracy: 0.9969 - val_loss: 0.0614 - val_binary_accuracy: 0.9858\n",
            "Epoch 74/500\n",
            "226/226 [==============================] - 1s 4ms/step - loss: 0.0122 - binary_accuracy: 0.9965 - val_loss: 0.0543 - val_binary_accuracy: 0.9920\n"
          ]
        }
      ]
    },
    {
      "cell_type": "code",
      "source": [
        "mod4 = Sequential()\n",
        "mod4.add(Dense(units = 24, input_shape = (12,), activation = 'relu'))\n",
        "mod4.add(Dense(units = 15,  activation = keras.layers.LeakyReLU(alpha=.03)))\n",
        "mod4.add(Dense(units = 10,  activation = keras.layers.LeakyReLU(alpha=.02)))\n",
        "mod4.add(Dense(units = 9, activation = 'relu'))\n",
        "mod4.add(Dropout(0.25))\n",
        "mod4.add(Dense(units = 2,  activation = 'sigmoid'))\n",
        "mod4.add(Flatten())\n",
        "mod4.compile(loss='binary_crossentropy', optimizer = 'rmsprop', metrics = ['binary_accuracy'])\n",
        "mod4.summary()"
      ],
      "metadata": {
        "id": "2wgxPjaU3Sl2",
        "colab": {
          "base_uri": "https://localhost:8080/"
        },
        "outputId": "e67c4280-e996-4376-ae0d-88f9f0bf8dbe"
      },
      "execution_count": null,
      "outputs": [
        {
          "output_type": "stream",
          "name": "stdout",
          "text": [
            "Model: \"sequential_19\"\n",
            "_________________________________________________________________\n",
            " Layer (type)                Output Shape              Param #   \n",
            "=================================================================\n",
            " dense_81 (Dense)            (None, 24)                312       \n",
            "                                                                 \n",
            " dense_82 (Dense)            (None, 15)                375       \n",
            "                                                                 \n",
            " dense_83 (Dense)            (None, 10)                160       \n",
            "                                                                 \n",
            " dense_84 (Dense)            (None, 9)                 99        \n",
            "                                                                 \n",
            " dropout_4 (Dropout)         (None, 9)                 0         \n",
            "                                                                 \n",
            " dense_85 (Dense)            (None, 2)                 20        \n",
            "                                                                 \n",
            " flatten_16 (Flatten)        (None, 2)                 0         \n",
            "                                                                 \n",
            "=================================================================\n",
            "Total params: 966 (3.77 KB)\n",
            "Trainable params: 966 (3.77 KB)\n",
            "Non-trainable params: 0 (0.00 Byte)\n",
            "_________________________________________________________________\n"
          ]
        }
      ]
    },
    {
      "cell_type": "code",
      "source": [
        "hist4 = mod4.fit(X_train, y_train, epochs = 500, validation_data = (X_valid, y_valid), batch_size = 30, callbacks = early_stopping)"
      ],
      "metadata": {
        "id": "1wPpoezc3z_4",
        "colab": {
          "base_uri": "https://localhost:8080/"
        },
        "outputId": "6c104e71-2ad8-4264-e7ed-5bc27f62f002"
      },
      "execution_count": null,
      "outputs": [
        {
          "output_type": "stream",
          "name": "stdout",
          "text": [
            "Epoch 1/500\n",
            "226/226 [==============================] - 2s 5ms/step - loss: 0.5642 - binary_accuracy: 0.7195 - val_loss: 0.4416 - val_binary_accuracy: 0.8595\n",
            "Epoch 2/500\n",
            "226/226 [==============================] - 1s 3ms/step - loss: 0.3921 - binary_accuracy: 0.8962 - val_loss: 0.3727 - val_binary_accuracy: 0.9022\n",
            "Epoch 3/500\n",
            "226/226 [==============================] - 1s 3ms/step - loss: 0.3381 - binary_accuracy: 0.9146 - val_loss: 0.3253 - val_binary_accuracy: 0.9232\n",
            "Epoch 4/500\n",
            "226/226 [==============================] - 1s 3ms/step - loss: 0.2913 - binary_accuracy: 0.9314 - val_loss: 0.2763 - val_binary_accuracy: 0.9456\n",
            "Epoch 5/500\n",
            "226/226 [==============================] - 1s 3ms/step - loss: 0.2465 - binary_accuracy: 0.9509 - val_loss: 0.2309 - val_binary_accuracy: 0.9628\n",
            "Epoch 6/500\n",
            "226/226 [==============================] - 1s 3ms/step - loss: 0.2080 - binary_accuracy: 0.9621 - val_loss: 0.1962 - val_binary_accuracy: 0.9655\n",
            "Epoch 7/500\n",
            "226/226 [==============================] - 1s 3ms/step - loss: 0.1786 - binary_accuracy: 0.9657 - val_loss: 0.1734 - val_binary_accuracy: 0.9697\n",
            "Epoch 8/500\n",
            "226/226 [==============================] - 1s 6ms/step - loss: 0.1551 - binary_accuracy: 0.9697 - val_loss: 0.1464 - val_binary_accuracy: 0.9723\n",
            "Epoch 9/500\n",
            "226/226 [==============================] - 1s 5ms/step - loss: 0.1322 - binary_accuracy: 0.9746 - val_loss: 0.1311 - val_binary_accuracy: 0.9750\n",
            "Epoch 10/500\n",
            "226/226 [==============================] - 1s 3ms/step - loss: 0.1138 - binary_accuracy: 0.9776 - val_loss: 0.1170 - val_binary_accuracy: 0.9783\n",
            "Epoch 11/500\n",
            "226/226 [==============================] - 1s 3ms/step - loss: 0.1003 - binary_accuracy: 0.9796 - val_loss: 0.0991 - val_binary_accuracy: 0.9788\n",
            "Epoch 12/500\n",
            "226/226 [==============================] - 1s 3ms/step - loss: 0.0871 - binary_accuracy: 0.9833 - val_loss: 0.0920 - val_binary_accuracy: 0.9812\n",
            "Epoch 13/500\n",
            "226/226 [==============================] - 1s 3ms/step - loss: 0.0752 - binary_accuracy: 0.9855 - val_loss: 0.0776 - val_binary_accuracy: 0.9827\n",
            "Epoch 14/500\n",
            "226/226 [==============================] - 1s 3ms/step - loss: 0.0659 - binary_accuracy: 0.9864 - val_loss: 0.0782 - val_binary_accuracy: 0.9823\n",
            "Epoch 15/500\n",
            "226/226 [==============================] - 1s 3ms/step - loss: 0.0602 - binary_accuracy: 0.9865 - val_loss: 0.0712 - val_binary_accuracy: 0.9823\n",
            "Epoch 16/500\n",
            "226/226 [==============================] - 1s 3ms/step - loss: 0.0541 - binary_accuracy: 0.9888 - val_loss: 0.0631 - val_binary_accuracy: 0.9847\n",
            "Epoch 17/500\n",
            "226/226 [==============================] - 1s 3ms/step - loss: 0.0476 - binary_accuracy: 0.9901 - val_loss: 0.0587 - val_binary_accuracy: 0.9823\n",
            "Epoch 18/500\n",
            "226/226 [==============================] - 1s 3ms/step - loss: 0.0447 - binary_accuracy: 0.9907 - val_loss: 0.0542 - val_binary_accuracy: 0.9867\n",
            "Epoch 19/500\n",
            "226/226 [==============================] - 1s 3ms/step - loss: 0.0412 - binary_accuracy: 0.9917 - val_loss: 0.0540 - val_binary_accuracy: 0.9854\n",
            "Epoch 20/500\n",
            "226/226 [==============================] - 1s 3ms/step - loss: 0.0387 - binary_accuracy: 0.9917 - val_loss: 0.0453 - val_binary_accuracy: 0.9894\n",
            "Epoch 21/500\n",
            "226/226 [==============================] - 1s 3ms/step - loss: 0.0350 - binary_accuracy: 0.9926 - val_loss: 0.0494 - val_binary_accuracy: 0.9894\n",
            "Epoch 22/500\n",
            "226/226 [==============================] - 1s 3ms/step - loss: 0.0343 - binary_accuracy: 0.9931 - val_loss: 0.0436 - val_binary_accuracy: 0.9889\n",
            "Epoch 23/500\n",
            "226/226 [==============================] - 1s 3ms/step - loss: 0.0302 - binary_accuracy: 0.9942 - val_loss: 0.0454 - val_binary_accuracy: 0.9894\n",
            "Epoch 24/500\n",
            "226/226 [==============================] - 1s 4ms/step - loss: 0.0300 - binary_accuracy: 0.9937 - val_loss: 0.0474 - val_binary_accuracy: 0.9885\n",
            "Epoch 25/500\n",
            "226/226 [==============================] - 1s 5ms/step - loss: 0.0279 - binary_accuracy: 0.9945 - val_loss: 0.0459 - val_binary_accuracy: 0.9889\n",
            "Epoch 26/500\n",
            "226/226 [==============================] - 1s 5ms/step - loss: 0.0285 - binary_accuracy: 0.9939 - val_loss: 0.0459 - val_binary_accuracy: 0.9889\n",
            "Epoch 27/500\n",
            "226/226 [==============================] - 1s 3ms/step - loss: 0.0255 - binary_accuracy: 0.9955 - val_loss: 0.0444 - val_binary_accuracy: 0.9894\n",
            "Epoch 28/500\n",
            "226/226 [==============================] - 1s 3ms/step - loss: 0.0259 - binary_accuracy: 0.9951 - val_loss: 0.0428 - val_binary_accuracy: 0.9896\n",
            "Epoch 29/500\n",
            "226/226 [==============================] - 1s 3ms/step - loss: 0.0250 - binary_accuracy: 0.9951 - val_loss: 0.0465 - val_binary_accuracy: 0.9885\n",
            "Epoch 30/500\n",
            "226/226 [==============================] - 1s 3ms/step - loss: 0.0233 - binary_accuracy: 0.9962 - val_loss: 0.0473 - val_binary_accuracy: 0.9894\n",
            "Epoch 31/500\n",
            "226/226 [==============================] - 1s 3ms/step - loss: 0.0245 - binary_accuracy: 0.9953 - val_loss: 0.0454 - val_binary_accuracy: 0.9874\n",
            "Epoch 32/500\n",
            "226/226 [==============================] - 1s 3ms/step - loss: 0.0232 - binary_accuracy: 0.9956 - val_loss: 0.0433 - val_binary_accuracy: 0.9898\n",
            "Epoch 33/500\n",
            "226/226 [==============================] - 1s 3ms/step - loss: 0.0233 - binary_accuracy: 0.9953 - val_loss: 0.0456 - val_binary_accuracy: 0.9903\n",
            "Epoch 34/500\n",
            "226/226 [==============================] - 1s 3ms/step - loss: 0.0220 - binary_accuracy: 0.9962 - val_loss: 0.0424 - val_binary_accuracy: 0.9912\n",
            "Epoch 35/500\n",
            "226/226 [==============================] - 1s 3ms/step - loss: 0.0220 - binary_accuracy: 0.9958 - val_loss: 0.0406 - val_binary_accuracy: 0.9912\n",
            "Epoch 36/500\n",
            "226/226 [==============================] - 1s 3ms/step - loss: 0.0218 - binary_accuracy: 0.9959 - val_loss: 0.0462 - val_binary_accuracy: 0.9903\n",
            "Epoch 37/500\n",
            "226/226 [==============================] - 1s 3ms/step - loss: 0.0212 - binary_accuracy: 0.9963 - val_loss: 0.0533 - val_binary_accuracy: 0.9876\n",
            "Epoch 38/500\n",
            "226/226 [==============================] - 1s 3ms/step - loss: 0.0211 - binary_accuracy: 0.9965 - val_loss: 0.0415 - val_binary_accuracy: 0.9912\n",
            "Epoch 39/500\n",
            "226/226 [==============================] - 1s 3ms/step - loss: 0.0205 - binary_accuracy: 0.9966 - val_loss: 0.0429 - val_binary_accuracy: 0.9898\n",
            "Epoch 40/500\n",
            "226/226 [==============================] - 1s 3ms/step - loss: 0.0204 - binary_accuracy: 0.9965 - val_loss: 0.0486 - val_binary_accuracy: 0.9889\n",
            "Epoch 41/500\n",
            "226/226 [==============================] - 1s 3ms/step - loss: 0.0209 - binary_accuracy: 0.9965 - val_loss: 0.0446 - val_binary_accuracy: 0.9903\n",
            "Epoch 42/500\n",
            "226/226 [==============================] - 1s 4ms/step - loss: 0.0211 - binary_accuracy: 0.9965 - val_loss: 0.0423 - val_binary_accuracy: 0.9898\n",
            "Epoch 43/500\n",
            "226/226 [==============================] - 1s 5ms/step - loss: 0.0204 - binary_accuracy: 0.9965 - val_loss: 0.0434 - val_binary_accuracy: 0.9885\n",
            "Epoch 44/500\n",
            "226/226 [==============================] - 1s 4ms/step - loss: 0.0207 - binary_accuracy: 0.9965 - val_loss: 0.0516 - val_binary_accuracy: 0.9881\n",
            "Epoch 45/500\n",
            "226/226 [==============================] - 1s 3ms/step - loss: 0.0203 - binary_accuracy: 0.9966 - val_loss: 0.0366 - val_binary_accuracy: 0.9916\n",
            "Epoch 46/500\n",
            "226/226 [==============================] - 1s 3ms/step - loss: 0.0197 - binary_accuracy: 0.9968 - val_loss: 0.0472 - val_binary_accuracy: 0.9898\n",
            "Epoch 47/500\n",
            "226/226 [==============================] - 1s 3ms/step - loss: 0.0195 - binary_accuracy: 0.9968 - val_loss: 0.0467 - val_binary_accuracy: 0.9894\n",
            "Epoch 48/500\n",
            "226/226 [==============================] - 1s 3ms/step - loss: 0.0197 - binary_accuracy: 0.9966 - val_loss: 0.0419 - val_binary_accuracy: 0.9903\n",
            "Epoch 49/500\n",
            "226/226 [==============================] - 1s 3ms/step - loss: 0.0196 - binary_accuracy: 0.9966 - val_loss: 0.0426 - val_binary_accuracy: 0.9907\n",
            "Epoch 50/500\n",
            "226/226 [==============================] - 1s 4ms/step - loss: 0.0198 - binary_accuracy: 0.9965 - val_loss: 0.0403 - val_binary_accuracy: 0.9912\n",
            "Epoch 51/500\n",
            "226/226 [==============================] - 1s 3ms/step - loss: 0.0192 - binary_accuracy: 0.9966 - val_loss: 0.0385 - val_binary_accuracy: 0.9920\n",
            "Epoch 52/500\n",
            "226/226 [==============================] - 1s 3ms/step - loss: 0.0199 - binary_accuracy: 0.9965 - val_loss: 0.0427 - val_binary_accuracy: 0.9903\n",
            "Epoch 53/500\n",
            "226/226 [==============================] - 1s 3ms/step - loss: 0.0203 - binary_accuracy: 0.9965 - val_loss: 0.0428 - val_binary_accuracy: 0.9907\n",
            "Epoch 54/500\n",
            "226/226 [==============================] - 1s 3ms/step - loss: 0.0198 - binary_accuracy: 0.9966 - val_loss: 0.0399 - val_binary_accuracy: 0.9912\n",
            "Epoch 55/500\n",
            "226/226 [==============================] - 1s 3ms/step - loss: 0.0192 - binary_accuracy: 0.9968 - val_loss: 0.0391 - val_binary_accuracy: 0.9916\n",
            "Epoch 56/500\n",
            "226/226 [==============================] - 1s 3ms/step - loss: 0.0192 - binary_accuracy: 0.9968 - val_loss: 0.0490 - val_binary_accuracy: 0.9898\n",
            "Epoch 57/500\n",
            "226/226 [==============================] - 1s 3ms/step - loss: 0.0195 - binary_accuracy: 0.9968 - val_loss: 0.0383 - val_binary_accuracy: 0.9920\n",
            "Epoch 58/500\n",
            "226/226 [==============================] - 1s 3ms/step - loss: 0.0190 - binary_accuracy: 0.9968 - val_loss: 0.0415 - val_binary_accuracy: 0.9907\n",
            "Epoch 59/500\n",
            "226/226 [==============================] - 1s 5ms/step - loss: 0.0188 - binary_accuracy: 0.9968 - val_loss: 0.0457 - val_binary_accuracy: 0.9907\n",
            "Epoch 60/500\n",
            "226/226 [==============================] - 1s 5ms/step - loss: 0.0185 - binary_accuracy: 0.9969 - val_loss: 0.0374 - val_binary_accuracy: 0.9916\n",
            "Epoch 61/500\n",
            "226/226 [==============================] - 1s 4ms/step - loss: 0.0182 - binary_accuracy: 0.9970 - val_loss: 0.0520 - val_binary_accuracy: 0.9889\n",
            "Epoch 62/500\n",
            "226/226 [==============================] - 1s 3ms/step - loss: 0.0188 - binary_accuracy: 0.9969 - val_loss: 0.0418 - val_binary_accuracy: 0.9907\n",
            "Epoch 63/500\n",
            "226/226 [==============================] - 1s 3ms/step - loss: 0.0193 - binary_accuracy: 0.9968 - val_loss: 0.0393 - val_binary_accuracy: 0.9912\n",
            "Epoch 64/500\n",
            "226/226 [==============================] - 1s 3ms/step - loss: 0.0193 - binary_accuracy: 0.9968 - val_loss: 0.0404 - val_binary_accuracy: 0.9912\n",
            "Epoch 65/500\n",
            "226/226 [==============================] - 1s 3ms/step - loss: 0.0177 - binary_accuracy: 0.9970 - val_loss: 0.0481 - val_binary_accuracy: 0.9898\n"
          ]
        }
      ]
    },
    {
      "cell_type": "code",
      "source": [
        "#plotting loss and val_loss\n",
        "plt.plot(hist2.history['loss'])\n",
        "plt.plot(hist2.history['val_loss'])\n",
        "plt.title(\"mod2 Loss\")\n",
        "plt.ylabel('Loss')\n",
        "plt.xlabel('Epochs')\n",
        "plt.legend(['Train', \"Validation\"], loc = 'upper right')\n",
        "plt.show()"
      ],
      "metadata": {
        "id": "3Kcqqex535Cw",
        "colab": {
          "base_uri": "https://localhost:8080/",
          "height": 472
        },
        "outputId": "9bc66ae4-5b2c-44ba-a00d-dacde0ae3e5d"
      },
      "execution_count": null,
      "outputs": [
        {
          "output_type": "display_data",
          "data": {
            "text/plain": [
              "<Figure size 640x480 with 1 Axes>"
            ],
            "image/png": "[encoded data removed]"
          },
          "metadata": {}
        }
      ]
    },
    {
      "cell_type": "code",
      "source": [
        "plt.plot(hist2.history['binary_accuracy'])\n",
        "plt.plot(hist2.history['val_binary_accuracy'])\n",
        "plt.title(\"mod2 Accuracy\")\n",
        "plt.xlabel('Loss')\n",
        "plt.ylabel('Epochs')\n",
        "plt.legend(['Train', \"Validation\"], loc = 'lower right')\n",
        "plt.show()\n",
        "#placed lower right. was blocking lines"
      ],
      "metadata": {
        "id": "9gbotQKl4n0_",
        "colab": {
          "base_uri": "https://localhost:8080/",
          "height": 472
        },
        "outputId": "518e24a3-b759-4691-d6a2-82bcdaf41ef0"
      },
      "execution_count": null,
      "outputs": [
        {
          "output_type": "display_data",
          "data": {
            "text/plain": [
              "<Figure size 640x480 with 1 Axes>"
            ],
            "image/png": "[encoded data removed]"
          },
          "metadata": {}
        }
      ]
    },
    {
      "cell_type": "markdown",
      "source": [
        "#Evaluating the Module\n",
        "Evaluatig module 2 with the test dataset to check performance.\n",
        "\n",
        "We can see the model performed very well and gave an accuracy of 99.6% and a loss of 1.98 %."
      ],
      "metadata": {
        "id": "2R5JCpLJUAob"
      }
    },
    {
      "cell_type": "code",
      "source": [
        "hist_test =mod2.evaluate(X_test, y_test)\n",
        "#RuntimeError: You must compile your model before training/testing. Use `model.compile(optimizer, loss)`."
      ],
      "metadata": {
        "id": "kC0ZteBa40pD",
        "colab": {
          "base_uri": "https://localhost:8080/"
        },
        "outputId": "dc6ab523-bbea-4dda-c405-e1ed7997157b"
      },
      "execution_count": null,
      "outputs": [
        {
          "output_type": "stream",
          "name": "stdout",
          "text": [
            "71/71 [==============================] - 1s 7ms/step - loss: 0.0198 - binary_accuracy: 0.9965\n"
          ]
        }
      ]
    },
    {
      "cell_type": "code",
      "source": [
        "print(\"Accuracy of the testing data:\", hist_test[1])\n",
        "print(\"Loss of the testing data:\", hist_test[0])"
      ],
      "metadata": {
        "id": "NPGz4l9546Az",
        "colab": {
          "base_uri": "https://localhost:8080/"
        },
        "outputId": "5bdade5f-05ca-476b-ff17-2b56fbd83c49"
      },
      "execution_count": null,
      "outputs": [
        {
          "output_type": "stream",
          "name": "stdout",
          "text": [
            "Accuracy of the testing data: 0.9964601993560791\n",
            "Loss of the testing data: 0.01984420046210289\n"
          ]
        }
      ]
    },
    {
      "cell_type": "markdown",
      "source": [
        "#Conclusion\n",
        "The model learned well on the training and performed very well on the test dataset.\n",
        "\n",
        "*Recommendation\n",
        "1. Can offer the interest payment to start 2 years after receiving the loan\n",
        "2. Personalise Loan offers\n",
        "3. Improve loan application process by making the wait period for result shorter\n",
        "4. Run targetted ads to attract new customers"
      ],
      "metadata": {
        "id": "QF2coHgkejw3"
      }
    },
    {
      "cell_type": "markdown",
      "source": [
        "#References:\n",
        "\n",
        "1. Walke, K. (2020) “Bank_Personal_Loan_Modelling.”\n",
        "\n",
        "2. (No date). Available at: http://#https://www.tensorflow.org/api_docs/python/tf/keras/callbacks/EarlyStopping (Accessed: April 16, 2024).\n",
        "\n",
        "3. Seaborn.Boxplot — seaborn 0.13.2 documentation (no date) Pydata.org. Available at: https://seaborn.pydata.org/generated/seaborn.boxplot.html (Accessed: April 16, 2024).\n",
        "\n",
        "4. Training & evaluation with the built-in methods (no date) TensorFlow. Available at: https://www.tensorflow.org/guide/keras/training_with_built_in_methods (Accessed: April 16, 2024).\n",
        "\n",
        "\n"
      ],
      "metadata": {
        "id": "A1QFeHIYBENX"
      }
    },
    {
      "cell_type": "code",
      "source": [
        "%%shell\n",
        "jupyter nbconvert bank_loan.ipynb --to html"
      ],
      "metadata": {
        "colab": {
          "base_uri": "https://localhost:8080/"
        },
        "id": "DoMP4bSTYIu_",
        "outputId": "3967300f-fe41-4b73-f1e5-a5be5230cc5f"
      },
      "execution_count": null,
      "outputs": [
        {
          "output_type": "stream",
          "name": "stdout",
          "text": [
            "[NbConvertApp] Converting notebook bank_loan.ipynb to html\n",
            "[NbConvertApp] Writing 1358797 bytes to bank_loan.html\n"
          ]
        },
        {
          "output_type": "execute_result",
          "data": {
            "text/plain": []
          },
          "metadata": {},
          "execution_count": 149
        }
      ]
    }
  ]
}